{
 "cells": [
  {
   "cell_type": "markdown",
   "id": "228a6a44",
   "metadata": {},
   "source": [
    "### 1) Import and install dependcies  "
   ]
  },
  {
   "cell_type": "code",
   "execution_count": 4,
   "id": "31714298",
   "metadata": {},
   "outputs": [
    {
     "name": "stdout",
     "output_type": "stream",
     "text": [
      "Requirement already satisfied: opencv-python in u:\\anconda config\\envs\\env_1\\lib\\site-packages (4.6.0.66)\n",
      "Requirement already satisfied: mediapipe in u:\\anconda config\\envs\\env_1\\lib\\site-packages (0.9.1.0)\n",
      "Requirement already satisfied: sklearn in u:\\anconda config\\envs\\env_1\\lib\\site-packages (0.0)\n",
      "Requirement already satisfied: matplotlib in u:\\anconda config\\envs\\env_1\\lib\\site-packages (3.6.2)\n",
      "Requirement already satisfied: numpy>=1.17.3 in u:\\anconda config\\envs\\env_1\\lib\\site-packages (from opencv-python) (1.23.1)\n",
      "Requirement already satisfied: flatbuffers>=2.0 in u:\\anconda config\\envs\\env_1\\lib\\site-packages (from mediapipe) (20210226132247)\n",
      "Requirement already satisfied: attrs>=19.1.0 in u:\\anconda config\\envs\\env_1\\lib\\site-packages (from mediapipe) (21.4.0)\n",
      "Requirement already satisfied: absl-py in u:\\anconda config\\envs\\env_1\\lib\\site-packages (from mediapipe) (0.15.0)\n",
      "Requirement already satisfied: opencv-contrib-python in u:\\anconda config\\envs\\env_1\\lib\\site-packages (from mediapipe) (4.7.0.72)\n",
      "Requirement already satisfied: protobuf<4,>=3.11 in u:\\anconda config\\envs\\env_1\\lib\\site-packages (from mediapipe) (3.20.3)\n",
      "Requirement already satisfied: scikit-learn in u:\\anconda config\\envs\\env_1\\lib\\site-packages (from sklearn) (1.1.2)\n",
      "Requirement already satisfied: cycler>=0.10 in u:\\anconda config\\envs\\env_1\\lib\\site-packages (from matplotlib) (0.11.0)\n",
      "Requirement already satisfied: fonttools>=4.22.0 in u:\\anconda config\\envs\\env_1\\lib\\site-packages (from matplotlib) (4.38.0)\n",
      "Requirement already satisfied: pillow>=6.2.0 in u:\\anconda config\\envs\\env_1\\lib\\site-packages (from matplotlib) (9.4.0)\n",
      "Requirement already satisfied: kiwisolver>=1.0.1 in u:\\anconda config\\envs\\env_1\\lib\\site-packages (from matplotlib) (1.4.4)\n",
      "Requirement already satisfied: contourpy>=1.0.1 in u:\\anconda config\\envs\\env_1\\lib\\site-packages (from matplotlib) (1.0.6)\n",
      "Requirement already satisfied: pyparsing>=2.2.1 in u:\\anconda config\\envs\\env_1\\lib\\site-packages (from matplotlib) (3.0.9)\n",
      "Requirement already satisfied: packaging>=20.0 in u:\\anconda config\\envs\\env_1\\lib\\site-packages (from matplotlib) (21.3)\n",
      "Requirement already satisfied: python-dateutil>=2.7 in u:\\anconda config\\envs\\env_1\\lib\\site-packages (from matplotlib) (2.8.2)\n",
      "Requirement already satisfied: six>=1.5 in u:\\anconda config\\envs\\env_1\\lib\\site-packages (from python-dateutil>=2.7->matplotlib) (1.16.0)\n",
      "Requirement already satisfied: joblib>=1.0.0 in u:\\anconda config\\envs\\env_1\\lib\\site-packages (from scikit-learn->sklearn) (1.2.0)\n",
      "Requirement already satisfied: threadpoolctl>=2.0.0 in u:\\anconda config\\envs\\env_1\\lib\\site-packages (from scikit-learn->sklearn) (3.1.0)\n",
      "Requirement already satisfied: scipy>=1.3.2 in u:\\anconda config\\envs\\env_1\\lib\\site-packages (from scikit-learn->sklearn) (1.9.1)\n"
     ]
    }
   ],
   "source": [
    "!pip install opencv-python mediapipe sklearn matplotlib"
   ]
  },
  {
   "cell_type": "code",
   "execution_count": 1,
   "id": "d5d4e4e5",
   "metadata": {},
   "outputs": [],
   "source": [
    "import cv2\n",
    "import numpy as np\n",
    "import os\n",
    "from matplotlib import pyplot as plt\n",
    "import time\n",
    "import mediapipe as mp"
   ]
  },
  {
   "cell_type": "markdown",
   "id": "5570f208",
   "metadata": {},
   "source": [
    "### 2) Keypoints using Mediapipe Holistic"
   ]
  },
  {
   "cell_type": "code",
   "execution_count": 2,
   "id": "f8d58790",
   "metadata": {},
   "outputs": [],
   "source": [
    "mp_holistic = mp.solutions.holistic # Holistic model\n",
    "mp_drawing = mp.solutions.drawing_utils # Drawing utilities"
   ]
  },
  {
   "cell_type": "code",
   "execution_count": 3,
   "id": "873ea62a",
   "metadata": {},
   "outputs": [],
   "source": [
    "def mediapipe_detection(image,model):\n",
    "    \n",
    "    image = cv2.cvtColor(image, cv2.COLOR_BGR2RGB) # COLOR CONVERSION BGR 2 RGB\n",
    "    image.flags.writeable = False                  # Image is no longer writeable\n",
    "    results = model.process(image)                 # Make prediction\n",
    "    image.flags.writeable = True                   # Image is now writeable \n",
    "    image = cv2.cvtColor(image, cv2.COLOR_RGB2BGR) # COLOR COVERSION RGB 2 BGR\n",
    "    return image, results"
   ]
  },
  {
   "cell_type": "code",
   "execution_count": 4,
   "id": "56d4e631",
   "metadata": {},
   "outputs": [],
   "source": [
    "def draw_landmarks(image,results):\n",
    "    mp_drawing.draw_landmarks(image,results.face_landmarks,mp_holistic.FACEMESH_TESSELATION)\n",
    "    mp_drawing.draw_landmarks(image,results.pose_landmarks,mp_holistic.POSE_CONNECTIONS)\n",
    "    mp_drawing.draw_landmarks(image,results.left_hand_landmarks,mp_holistic.HAND_CONNECTIONS)\n",
    "    mp_drawing.draw_landmarks(image,results.right_hand_landmarks,mp_holistic.HAND_CONNECTIONS)\n",
    "    "
   ]
  },
  {
   "cell_type": "code",
   "execution_count": 5,
   "id": "6c35a6ab",
   "metadata": {},
   "outputs": [],
   "source": [
    "def draw_styled_landmarks(image,results):\n",
    "    mp_drawing.draw_landmarks(image,results.face_landmarks,mp_holistic.FACEMESH_CONTOURS,\n",
    "                              mp_drawing.DrawingSpec(color=(80,110,10),thickness=1,circle_radius=1),\n",
    "                              mp_drawing.DrawingSpec(color=(80,256,121),thickness=1,circle_radius=1),\n",
    "                              \n",
    "                             )\n",
    "    \n",
    "    mp_drawing.draw_landmarks(image,results.pose_landmarks,mp_holistic.POSE_CONNECTIONS,\n",
    "                              mp_drawing.DrawingSpec(color=(80,22,10),thickness=2,circle_radius=3),\n",
    "                              mp_drawing.DrawingSpec(color=(80,44,121),thickness=2,circle_radius=2),\n",
    "                             )\n",
    "    \n",
    "    mp_drawing.draw_landmarks(image,results.left_hand_landmarks,mp_holistic.HAND_CONNECTIONS,\n",
    "                              mp_drawing.DrawingSpec(color=(121,22,76),thickness=2,circle_radius=3),\n",
    "                              mp_drawing.DrawingSpec(color=(121,44,250),thickness=2,circle_radius=2),\n",
    "                             )\n",
    "    \n",
    "    mp_drawing.draw_landmarks(image,results.right_hand_landmarks,mp_holistic.HAND_CONNECTIONS,\n",
    "                              mp_drawing.DrawingSpec(color=(245,117,66),thickness=2,circle_radius=3),\n",
    "                              mp_drawing.DrawingSpec(color=(245,66,230),thickness=2,circle_radius=2),\n",
    "                             )"
   ]
  },
  {
   "cell_type": "code",
   "execution_count": 6,
   "id": "cc1ad803",
   "metadata": {},
   "outputs": [],
   "source": [
    "\n",
    "cap = cv2.VideoCapture(0)\n",
    "# Set mediapipe model \n",
    "with mp_holistic.Holistic(min_detection_confidence=0.75, min_tracking_confidence=0.75) as holistic:\n",
    "    while cap.isOpened():\n",
    "\n",
    "        # Read feed\n",
    "        ret, frame = cap.read()\n",
    "\n",
    "        # Make detections\n",
    "        image, results = mediapipe_detection(frame, holistic)\n",
    "        \n",
    "        \n",
    "        # Draw landmarks\n",
    "        draw_styled_landmarks(image, results)\n",
    "\n",
    "        # Show to screenq\n",
    "        cv2.imshow('OpenCV Feed', image)\n",
    "\n",
    "        # Break gracefully\n",
    "        if cv2.waitKey(10) & 0xFF == ord('q'):\n",
    "            break\n",
    "    cap.release()\n",
    "    cv2.destroyAllWindows()"
   ]
  },
  {
   "cell_type": "code",
   "execution_count": 7,
   "id": "7436350c",
   "metadata": {},
   "outputs": [
    {
     "data": {
      "text/plain": [
       "468"
      ]
     },
     "execution_count": 7,
     "metadata": {},
     "output_type": "execute_result"
    }
   ],
   "source": [
    "len(results.face_landmarks.landmark)"
   ]
  },
  {
   "cell_type": "code",
   "execution_count": 8,
   "id": "f465df36",
   "metadata": {},
   "outputs": [],
   "source": [
    "draw_landmarks(frame,results)"
   ]
  },
  {
   "cell_type": "code",
   "execution_count": 9,
   "id": "c3fcb5ad",
   "metadata": {},
   "outputs": [
    {
     "data": {
      "text/plain": [
       "<matplotlib.image.AxesImage at 0x17b04183a00>"
      ]
     },
     "execution_count": 9,
     "metadata": {},
     "output_type": "execute_result"
    },
    {
     "data": {
      "image/png": "[encoded data removed]",
      "text/plain": [
       "<Figure size 640x480 with 1 Axes>"
      ]
     },
     "metadata": {},
     "output_type": "display_data"
    }
   ],
   "source": [
    "plt.imshow(cv2.cvtColor(frame,cv2.COLOR_BGR2RGB))"
   ]
  },
  {
   "cell_type": "markdown",
   "id": "ec2ec103",
   "metadata": {},
   "source": [
    "### Extract Keypoint Values"
   ]
  },
  {
   "cell_type": "code",
   "execution_count": 10,
   "id": "2cf8158c",
   "metadata": {},
   "outputs": [],
   "source": [
    "all_pose_landmarks =[]\n",
    "for res in results.pose_landmarks.landmark:\n",
    "    test = np.array([res.x,res.y,res.visibility])\n",
    "    all_pose_landmarks.append(test)"
   ]
  },
  {
   "cell_type": "code",
   "execution_count": null,
   "id": "f21e88d1",
   "metadata": {},
   "outputs": [],
   "source": []
  },
  {
   "cell_type": "code",
   "execution_count": 11,
   "id": "c15a1a47",
   "metadata": {},
   "outputs": [],
   "source": [
    "pose = np.array([[res.x,res.y,res.z,res.visibility] for res in results.pose_landmarks.landmark]).flatten() if results.pose_landmarks else np.zeros(132)\n",
    "lh = np.array([[res.x,res.y, res.z] for res in results.left_hand_landmarks.landmark]).flatten() if results.left_hand_landmarks else np.zeros(21*3)\n",
    "rh = np.array([[res.x,res.y, res.z] for res in results.right_hand_landmarks.landmark]).flatten() if results.right_hand_landmarks else np.zeros(21*3)\n",
    "face = np.array([[res.x,res.y, res.z] for res in results.face_landmarks.landmark]).flatten() if results.face_landmarks else np.zeros(1404)\n"
   ]
  },
  {
   "cell_type": "code",
   "execution_count": 12,
   "id": "7da15981",
   "metadata": {},
   "outputs": [
    {
     "data": {
      "text/plain": [
       "1404"
      ]
     },
     "execution_count": 12,
     "metadata": {},
     "output_type": "execute_result"
    }
   ],
   "source": [
    "len(results.face_landmarks.landmark)*3"
   ]
  },
  {
   "cell_type": "code",
   "execution_count": 13,
   "id": "96e8e7d2",
   "metadata": {},
   "outputs": [
    {
     "data": {
      "text/plain": [
       "1404"
      ]
     },
     "execution_count": 13,
     "metadata": {},
     "output_type": "execute_result"
    }
   ],
   "source": [
    "len(face)"
   ]
  },
  {
   "cell_type": "code",
   "execution_count": 14,
   "id": "a2522907",
   "metadata": {},
   "outputs": [
    {
     "ename": "AttributeError",
     "evalue": "'NoneType' object has no attribute 'landmark'",
     "output_type": "error",
     "traceback": [
      "\u001b[1;31m---------------------------------------------------------------------------\u001b[0m",
      "\u001b[1;31mAttributeError\u001b[0m                            Traceback (most recent call last)",
      "Input \u001b[1;32mIn [14]\u001b[0m, in \u001b[0;36m<cell line: 1>\u001b[1;34m()\u001b[0m\n\u001b[1;32m----> 1\u001b[0m \u001b[43mresults\u001b[49m\u001b[38;5;241;43m.\u001b[39;49m\u001b[43mleft_hand_landmarks\u001b[49m\u001b[38;5;241;43m.\u001b[39;49m\u001b[43mlandmark\u001b[49m\n",
      "\u001b[1;31mAttributeError\u001b[0m: 'NoneType' object has no attribute 'landmark'"
     ]
    }
   ],
   "source": [
    "results.left_hand_landmarks.landmark"
   ]
  },
  {
   "cell_type": "code",
   "execution_count": null,
   "id": "87dabb7e",
   "metadata": {},
   "outputs": [],
   "source": [
    "np.zeros(63)"
   ]
  },
  {
   "cell_type": "code",
   "execution_count": 15,
   "id": "e9b21c75",
   "metadata": {},
   "outputs": [
    {
     "data": {
      "text/plain": [
       "array([0., 0., 0., 0., 0., 0., 0., 0., 0., 0., 0., 0., 0., 0., 0., 0., 0.,\n",
       "       0., 0., 0., 0., 0., 0., 0., 0., 0., 0., 0., 0., 0., 0., 0., 0., 0.,\n",
       "       0., 0., 0., 0., 0., 0., 0., 0., 0., 0., 0., 0., 0., 0., 0., 0., 0.,\n",
       "       0., 0., 0., 0., 0., 0., 0., 0., 0., 0., 0., 0.])"
      ]
     },
     "execution_count": 15,
     "metadata": {},
     "output_type": "execute_result"
    }
   ],
   "source": [
    "rh"
   ]
  },
  {
   "cell_type": "code",
   "execution_count": 16,
   "id": "2d2de791",
   "metadata": {},
   "outputs": [],
   "source": [
    "def extract_keypoints(results):\n",
    "    pose = np.array([[res.x,res.y,res.z,res.visibility] for res in results.pose_landmarks.landmark]).flatten() if results.pose_landmarks else np.zeros(132)\n",
    "    lh = np.array([[res.x,res.y, res.z] for res in results.left_hand_landmarks.landmark]).flatten() if results.left_hand_landmarks else np.zeros(21*3)\n",
    "    rh = np.array([[res.x,res.y, res.z] for res in results.right_hand_landmarks.landmark]).flatten() if results.right_hand_landmarks else np.zeros(21*3)\n",
    "    face = np.array([[res.x,res.y, res.z] for res in results.face_landmarks.landmark]).flatten() if results.face_landmarks else np.zeros(1404)\n",
    "\n",
    "    return np.concatenate([pose,face,lh,rh])"
   ]
  },
  {
   "cell_type": "code",
   "execution_count": 17,
   "id": "e06c5964",
   "metadata": {},
   "outputs": [],
   "source": [
    "result_set = extract_keypoints(results)"
   ]
  },
  {
   "cell_type": "code",
   "execution_count": 18,
   "id": "12b6a098",
   "metadata": {},
   "outputs": [
    {
     "data": {
      "text/plain": [
       "(1662,)"
      ]
     },
     "execution_count": 18,
     "metadata": {},
     "output_type": "execute_result"
    }
   ],
   "source": [
    "result_set.shape"
   ]
  },
  {
   "cell_type": "code",
   "execution_count": 19,
   "id": "0137560e",
   "metadata": {},
   "outputs": [],
   "source": [
    "np.save('0',result_set)"
   ]
  },
  {
   "cell_type": "code",
   "execution_count": 20,
   "id": "871d3bf7",
   "metadata": {},
   "outputs": [
    {
     "data": {
      "text/plain": [
       "array([ 0.54092479,  0.51152456, -1.50514126, ...,  0.        ,\n",
       "        0.        ,  0.        ])"
      ]
     },
     "execution_count": 20,
     "metadata": {},
     "output_type": "execute_result"
    }
   ],
   "source": [
    "np.load('0.npy')"
   ]
  },
  {
   "cell_type": "markdown",
   "id": "7e8a2445",
   "metadata": {},
   "source": [
    "### Setup Folders"
   ]
  },
  {
   "cell_type": "code",
   "execution_count": 21,
   "id": "d8dc69d3",
   "metadata": {},
   "outputs": [],
   "source": [
    "# Path for exported data, numpy arrays\n",
    "DATA_PATH = os.path.join('MP_Data') \n",
    "\n",
    "# Actions that we try to detect\n",
    "actions = np.array(['hello', 'thanks', 'HowAreYou'])\n",
    "\n",
    "# Thirty videos worth of data\n",
    "no_sequences = 30\n",
    "\n",
    "# Videos are going to be 30 frames in length\n",
    "sequence_length = 30"
   ]
  },
  {
   "cell_type": "code",
   "execution_count": 25,
   "id": "be9d2f1d",
   "metadata": {},
   "outputs": [],
   "source": [
    "for action in actions:\n",
    "    for sequence in range(no_sequences):\n",
    "        try:\n",
    "            os.makedirs(os.path.join(DATA_PATH,action,str(sequence)))\n",
    "        except:\n",
    "            pass\n",
    "        "
   ]
  },
  {
   "cell_type": "code",
   "execution_count": 26,
   "id": "a27797ba",
   "metadata": {},
   "outputs": [
    {
     "name": "stdout",
     "output_type": "stream",
     "text": [
      "H\n",
      "o\n",
      "w\n",
      "A\n",
      "r\n",
      "e\n",
      "Y\n",
      "o\n",
      "u\n"
     ]
    }
   ],
   "source": [
    "for action in actions[2]:\n",
    "    print(action)"
   ]
  },
  {
   "cell_type": "markdown",
   "id": "461e8d48",
   "metadata": {},
   "source": [
    "### Training and Testing"
   ]
  },
  {
   "cell_type": "code",
   "execution_count": 27,
   "id": "a34b74c3",
   "metadata": {},
   "outputs": [],
   "source": [
    "\n",
    "cap = cv2.VideoCapture(0)\n",
    "\n",
    "# Set mediapipe model \n",
    "with mp_holistic.Holistic(min_detection_confidence=0.75, min_tracking_confidence=0.75) as holistic:\n",
    "    \n",
    "    for action in actions:\n",
    "        \n",
    "        for sequence in range(no_sequences): \n",
    "                for frame_num in range(sequence_length):\n",
    "\n",
    "                    # Read feed\n",
    "                    ret, frame = cap.read()\n",
    "\n",
    "                    # Make detections\n",
    "                    image, results = mediapipe_detection(frame, holistic)\n",
    "\n",
    "\n",
    "                    # Draw landmarks\n",
    "                    draw_styled_landmarks(image, results)\n",
    "\n",
    "                    # apply collection\n",
    "                    if frame_num == 0: \n",
    "                        cv2.putText(image, 'STARTING COLLECTION', (120,200), \n",
    "                                   cv2.FONT_HERSHEY_SIMPLEX, 1, (0,255, 0), 4, cv2.LINE_AA)\n",
    "                        cv2.putText(image, 'Collecting frames for {} Video Number {}'.format(action, sequence), (15,12), \n",
    "                                   cv2.FONT_HERSHEY_SIMPLEX, 0.5, (0, 0, 255), 1, cv2.LINE_AA)\n",
    "                        # Show to screen\n",
    "                        cv2.imshow('OpenCV Feed', image)\n",
    "                        cv2.waitKey(1000)\n",
    "                    else: \n",
    "                        cv2.putText(image, 'Collecting frames for {} Video Number {}'.format(action, sequence), (15,12), \n",
    "                                   cv2.FONT_HERSHEY_SIMPLEX, 0.5, (0, 0, 255), 1, cv2.LINE_AA)\n",
    "                        # Show to screen\n",
    "                        cv2.imshow('OpenCV Feed', image)  \n",
    "\n",
    "                     # NEW Export keypoints\n",
    "                    keypoints = extract_keypoints(results)\n",
    "                    npy_path = os.path.join(DATA_PATH, action, str(sequence), str(frame_num))\n",
    "                    np.save(npy_path, keypoints)\n",
    "                    # Show to screenq\n",
    "                    cv2.imshow('OpenCV Feed', image)\n",
    "\n",
    "                    if cv2.waitKey(10) & 0xFF == ord('q'):\n",
    "                        break\n",
    "    cap.release()\n",
    "    cv2.destroyAllWindows()"
   ]
  },
  {
   "cell_type": "markdown",
   "id": "87076a59",
   "metadata": {},
   "source": [
    "### Prepare Data for the model"
   ]
  },
  {
   "cell_type": "code",
   "execution_count": 28,
   "id": "99c6031f",
   "metadata": {},
   "outputs": [],
   "source": [
    "from sklearn.model_selection import train_test_split\n",
    "from tensorflow.keras.utils import to_categorical"
   ]
  },
  {
   "cell_type": "code",
   "execution_count": 29,
   "id": "60ea30bf",
   "metadata": {},
   "outputs": [],
   "source": [
    "label_map = {label:num for num,label in enumerate(actions)}"
   ]
  },
  {
   "cell_type": "code",
   "execution_count": 30,
   "id": "f15ad48a",
   "metadata": {},
   "outputs": [
    {
     "data": {
      "text/plain": [
       "{'hello': 0, 'thanks': 1, 'HowAreYou': 2}"
      ]
     },
     "execution_count": 30,
     "metadata": {},
     "output_type": "execute_result"
    }
   ],
   "source": [
    "label_map"
   ]
  },
  {
   "cell_type": "code",
   "execution_count": 31,
   "id": "436af479",
   "metadata": {},
   "outputs": [],
   "source": [
    "sequences, labels = [], []\n",
    "for action in actions:\n",
    "    for sequence in range(no_sequences):\n",
    "        window = []\n",
    "        for frame_num in range(sequence_length):\n",
    "            res = np.load(os.path.join(DATA_PATH, action, str(sequence), \"{}.npy\".format(frame_num)))\n",
    "            window.append(res)\n",
    "        sequences.append(window)\n",
    "        labels.append(label_map[action])"
   ]
  },
  {
   "cell_type": "code",
   "execution_count": 32,
   "id": "bd77406b",
   "metadata": {},
   "outputs": [
    {
     "data": {
      "text/plain": [
       "(90,)"
      ]
     },
     "execution_count": 32,
     "metadata": {},
     "output_type": "execute_result"
    }
   ],
   "source": [
    "np.array(labels).shape"
   ]
  },
  {
   "cell_type": "code",
   "execution_count": 33,
   "id": "b8f8fc2f",
   "metadata": {},
   "outputs": [
    {
     "data": {
      "text/plain": [
       "(90, 30, 1662)"
      ]
     },
     "execution_count": 33,
     "metadata": {},
     "output_type": "execute_result"
    }
   ],
   "source": [
    "np.array(sequences).shape"
   ]
  },
  {
   "cell_type": "code",
   "execution_count": 34,
   "id": "19685665",
   "metadata": {},
   "outputs": [
    {
     "data": {
      "text/plain": [
       "90"
      ]
     },
     "execution_count": 34,
     "metadata": {},
     "output_type": "execute_result"
    }
   ],
   "source": [
    "len(sequences)"
   ]
  },
  {
   "cell_type": "code",
   "execution_count": 35,
   "id": "36748f6c",
   "metadata": {},
   "outputs": [],
   "source": [
    "X = np.array(sequences)"
   ]
  },
  {
   "cell_type": "code",
   "execution_count": 36,
   "id": "0be01ba0",
   "metadata": {},
   "outputs": [
    {
     "data": {
      "text/plain": [
       "(90, 30, 1662)"
      ]
     },
     "execution_count": 36,
     "metadata": {},
     "output_type": "execute_result"
    }
   ],
   "source": [
    "X.shape"
   ]
  },
  {
   "cell_type": "code",
   "execution_count": 37,
   "id": "af463009",
   "metadata": {},
   "outputs": [],
   "source": [
    "y = to_categorical(labels).astype(int)"
   ]
  },
  {
   "cell_type": "code",
   "execution_count": 38,
   "id": "5a60f974",
   "metadata": {},
   "outputs": [
    {
     "data": {
      "text/plain": [
       "(90, 3)"
      ]
     },
     "execution_count": 38,
     "metadata": {},
     "output_type": "execute_result"
    }
   ],
   "source": [
    "y.shape"
   ]
  },
  {
   "cell_type": "code",
   "execution_count": 39,
   "id": "0cc38ca6",
   "metadata": {},
   "outputs": [],
   "source": [
    "X_train,X_test,y_train,y_test = train_test_split(X,y,test_size =0.05)"
   ]
  },
  {
   "cell_type": "markdown",
   "id": "ba361503",
   "metadata": {},
   "source": [
    "### Building model using LSTM"
   ]
  },
  {
   "cell_type": "code",
   "execution_count": 40,
   "id": "a16f837a",
   "metadata": {},
   "outputs": [],
   "source": [
    "from tensorflow.keras.models import Sequential\n",
    "from tensorflow.keras.layers import LSTM,Dense\n",
    "from tensorflow.keras.callbacks import TensorBoard"
   ]
  },
  {
   "cell_type": "code",
   "execution_count": 41,
   "id": "ce121df1",
   "metadata": {},
   "outputs": [],
   "source": [
    "log_dir = os.path.join('Logs')\n",
    "tb_callback = TensorBoard(log_dir=log_dir)"
   ]
  },
  {
   "cell_type": "code",
   "execution_count": 61,
   "id": "7e668c06",
   "metadata": {},
   "outputs": [
    {
     "name": "stdout",
     "output_type": "stream",
     "text": [
      "WARNING:tensorflow:Layer lstm_3 will not use cuDNN kernels since it doesn't meet the criteria. It will use a generic GPU kernel as fallback when running on GPU.\n",
      "WARNING:tensorflow:Layer lstm_4 will not use cuDNN kernels since it doesn't meet the criteria. It will use a generic GPU kernel as fallback when running on GPU.\n",
      "WARNING:tensorflow:Layer lstm_5 will not use cuDNN kernels since it doesn't meet the criteria. It will use a generic GPU kernel as fallback when running on GPU.\n"
     ]
    }
   ],
   "source": [
    "model = Sequential()\n",
    "model.add(LSTM(64, return_sequences=True, activation='relu', input_shape=(30,1662)))\n",
    "model.add(LSTM(128, return_sequences=True, activation='relu'))\n",
    "model.add(LSTM(64, return_sequences=False, activation='relu'))\n",
    "model.add(Dense(64, activation='relu'))\n",
    "model.add(Dense(32, activation='relu'))\n",
    "model.add(Dense(actions.shape[0], activation='softmax'))"
   ]
  },
  {
   "cell_type": "code",
   "execution_count": 63,
   "id": "bc9f2805",
   "metadata": {},
   "outputs": [],
   "source": [
    "model.compile(optimizer='Adam',loss='categorical_crossentropy',metrics=['categorical_accuracy'])"
   ]
  },
  {
   "cell_type": "code",
   "execution_count": 64,
   "id": "bdce799c",
   "metadata": {},
   "outputs": [
    {
     "name": "stdout",
     "output_type": "stream",
     "text": [
      "Model: \"sequential_1\"\n",
      "_________________________________________________________________\n",
      "Layer (type)                 Output Shape              Param #   \n",
      "=================================================================\n",
      "lstm_3 (LSTM)                (None, 30, 64)            442112    \n",
      "_________________________________________________________________\n",
      "lstm_4 (LSTM)                (None, 30, 128)           98816     \n",
      "_________________________________________________________________\n",
      "lstm_5 (LSTM)                (None, 64)                49408     \n",
      "_________________________________________________________________\n",
      "dense_3 (Dense)              (None, 64)                4160      \n",
      "_________________________________________________________________\n",
      "dense_4 (Dense)              (None, 32)                2080      \n",
      "_________________________________________________________________\n",
      "dense_5 (Dense)              (None, 3)                 99        \n",
      "=================================================================\n",
      "Total params: 596,675\n",
      "Trainable params: 596,675\n",
      "Non-trainable params: 0\n",
      "_________________________________________________________________\n"
     ]
    }
   ],
   "source": [
    "model.summary()"
   ]
  },
  {
   "cell_type": "code",
   "execution_count": 65,
   "id": "78d7bea9",
   "metadata": {},
   "outputs": [
    {
     "name": "stdout",
     "output_type": "stream",
     "text": [
      "Epoch 1/500\n",
      "3/3 [==============================] - 7s 929ms/step - loss: 1.2865 - categorical_accuracy: 0.3176\n",
      "Epoch 2/500\n",
      "3/3 [==============================] - 1s 382ms/step - loss: 1.3748 - categorical_accuracy: 0.4235\n",
      "Epoch 3/500\n",
      "3/3 [==============================] - 1s 413ms/step - loss: 1.0929 - categorical_accuracy: 0.3647\n",
      "Epoch 4/500\n",
      "3/3 [==============================] - 1s 294ms/step - loss: 1.2653 - categorical_accuracy: 0.2706\n",
      "Epoch 5/500\n",
      "3/3 [==============================] - 1s 402ms/step - loss: 1.5306 - categorical_accuracy: 0.2824\n",
      "Epoch 6/500\n",
      "3/3 [==============================] - 1s 299ms/step - loss: 4.9441 - categorical_accuracy: 0.3059\n",
      "Epoch 7/500\n",
      "3/3 [==============================] - 1s 291ms/step - loss: 1.6311 - categorical_accuracy: 0.2706\n",
      "Epoch 8/500\n",
      "3/3 [==============================] - 1s 304ms/step - loss: 1.3405 - categorical_accuracy: 0.3529\n",
      "Epoch 9/500\n",
      "3/3 [==============================] - 1s 346ms/step - loss: 2.3783 - categorical_accuracy: 0.3647\n",
      "Epoch 10/500\n",
      "3/3 [==============================] - 1s 345ms/step - loss: 1.3100 - categorical_accuracy: 0.2824\n",
      "Epoch 11/500\n",
      "3/3 [==============================] - 1s 436ms/step - loss: 1.1594 - categorical_accuracy: 0.4824\n",
      "Epoch 12/500\n",
      "3/3 [==============================] - 1s 315ms/step - loss: 1.1542 - categorical_accuracy: 0.3765\n",
      "Epoch 13/500\n",
      "3/3 [==============================] - 1s 324ms/step - loss: 1.1059 - categorical_accuracy: 0.4353\n",
      "Epoch 14/500\n",
      "3/3 [==============================] - 1s 317ms/step - loss: 1.0867 - categorical_accuracy: 0.3412\n",
      "Epoch 15/500\n",
      "3/3 [==============================] - 1s 312ms/step - loss: 1.0848 - categorical_accuracy: 0.3647\n",
      "Epoch 16/500\n",
      "3/3 [==============================] - 1s 311ms/step - loss: 1.0802 - categorical_accuracy: 0.4941\n",
      "Epoch 17/500\n",
      "3/3 [==============================] - 1s 338ms/step - loss: 1.0540 - categorical_accuracy: 0.4471\n",
      "Epoch 18/500\n",
      "3/3 [==============================] - 1s 332ms/step - loss: 1.0523 - categorical_accuracy: 0.3647\n",
      "Epoch 19/500\n",
      "3/3 [==============================] - 1s 320ms/step - loss: 0.9806 - categorical_accuracy: 0.5294\n",
      "Epoch 20/500\n",
      "3/3 [==============================] - 1s 349ms/step - loss: 0.9290 - categorical_accuracy: 0.5529\n",
      "Epoch 21/500\n",
      "3/3 [==============================] - 1s 324ms/step - loss: 0.8295 - categorical_accuracy: 0.6000\n",
      "Epoch 22/500\n",
      "3/3 [==============================] - 1s 323ms/step - loss: 0.6958 - categorical_accuracy: 0.6471\n",
      "Epoch 23/500\n",
      "3/3 [==============================] - 1s 329ms/step - loss: 0.7152 - categorical_accuracy: 0.5882\n",
      "Epoch 24/500\n",
      "3/3 [==============================] - 1s 323ms/step - loss: 0.5713 - categorical_accuracy: 0.6706\n",
      "Epoch 25/500\n",
      "3/3 [==============================] - 1s 317ms/step - loss: 0.5965 - categorical_accuracy: 0.6471\n",
      "Epoch 26/500\n",
      "3/3 [==============================] - 1s 287ms/step - loss: 0.8209 - categorical_accuracy: 0.6000\n",
      "Epoch 27/500\n",
      "3/3 [==============================] - 1s 310ms/step - loss: 0.7340 - categorical_accuracy: 0.5765\n",
      "Epoch 28/500\n",
      "3/3 [==============================] - 1s 311ms/step - loss: 0.6170 - categorical_accuracy: 0.6706\n",
      "Epoch 29/500\n",
      "3/3 [==============================] - 1s 318ms/step - loss: 0.6526 - categorical_accuracy: 0.6588\n",
      "Epoch 30/500\n",
      "3/3 [==============================] - 1s 310ms/step - loss: 0.5958 - categorical_accuracy: 0.7412\n",
      "Epoch 31/500\n",
      "3/3 [==============================] - 1s 316ms/step - loss: 0.4571 - categorical_accuracy: 0.7882\n",
      "Epoch 32/500\n",
      "3/3 [==============================] - 1s 324ms/step - loss: 0.5305 - categorical_accuracy: 0.6941\n",
      "Epoch 33/500\n",
      "3/3 [==============================] - 1s 302ms/step - loss: 0.4150 - categorical_accuracy: 0.8353\n",
      "Epoch 34/500\n",
      "3/3 [==============================] - 1s 297ms/step - loss: 0.4329 - categorical_accuracy: 0.8118\n",
      "Epoch 35/500\n",
      "3/3 [==============================] - 1s 298ms/step - loss: 0.3818 - categorical_accuracy: 0.8118\n",
      "Epoch 36/500\n",
      "3/3 [==============================] - 1s 314ms/step - loss: 0.3927 - categorical_accuracy: 0.8000\n",
      "Epoch 37/500\n",
      "3/3 [==============================] - 1s 308ms/step - loss: 0.4133 - categorical_accuracy: 0.7765\n",
      "Epoch 38/500\n",
      "3/3 [==============================] - 1s 311ms/step - loss: 0.4853 - categorical_accuracy: 0.7412\n",
      "Epoch 39/500\n",
      "3/3 [==============================] - 1s 312ms/step - loss: 0.4542 - categorical_accuracy: 0.7176\n",
      "Epoch 40/500\n",
      "3/3 [==============================] - 1s 317ms/step - loss: 0.3946 - categorical_accuracy: 0.7882\n",
      "Epoch 41/500\n",
      "3/3 [==============================] - 1s 317ms/step - loss: 0.3914 - categorical_accuracy: 0.8235\n",
      "Epoch 42/500\n",
      "3/3 [==============================] - 1s 303ms/step - loss: 0.3602 - categorical_accuracy: 0.8824\n",
      "Epoch 43/500\n",
      "3/3 [==============================] - 1s 308ms/step - loss: 0.3476 - categorical_accuracy: 0.8471\n",
      "Epoch 44/500\n",
      "3/3 [==============================] - 1s 294ms/step - loss: 0.3012 - categorical_accuracy: 0.9059\n",
      "Epoch 45/500\n",
      "3/3 [==============================] - 1s 290ms/step - loss: 0.2371 - categorical_accuracy: 0.9059\n",
      "Epoch 46/500\n",
      "3/3 [==============================] - 1s 303ms/step - loss: 0.5932 - categorical_accuracy: 0.7412\n",
      "Epoch 47/500\n",
      "3/3 [==============================] - 1s 296ms/step - loss: 0.4098 - categorical_accuracy: 0.8353\n",
      "Epoch 48/500\n",
      "3/3 [==============================] - 1s 313ms/step - loss: 0.2915 - categorical_accuracy: 0.8824\n",
      "Epoch 49/500\n",
      "3/3 [==============================] - 1s 306ms/step - loss: 0.3076 - categorical_accuracy: 0.8471\n",
      "Epoch 50/500\n",
      "3/3 [==============================] - 1s 303ms/step - loss: 0.3071 - categorical_accuracy: 0.8471\n",
      "Epoch 51/500\n",
      "3/3 [==============================] - 1s 306ms/step - loss: 0.2458 - categorical_accuracy: 0.9176\n",
      "Epoch 52/500\n",
      "3/3 [==============================] - 1s 305ms/step - loss: 0.2838 - categorical_accuracy: 0.8588\n",
      "Epoch 53/500\n",
      "3/3 [==============================] - 1s 289ms/step - loss: 0.2025 - categorical_accuracy: 0.9176\n",
      "Epoch 54/500\n",
      "3/3 [==============================] - 1s 291ms/step - loss: 0.1729 - categorical_accuracy: 0.9176\n",
      "Epoch 55/500\n",
      "3/3 [==============================] - 1s 303ms/step - loss: 0.1442 - categorical_accuracy: 0.9529\n",
      "Epoch 56/500\n",
      "3/3 [==============================] - 1s 417ms/step - loss: 0.2644 - categorical_accuracy: 0.9059\n",
      "Epoch 57/500\n",
      "3/3 [==============================] - 1s 288ms/step - loss: 0.2320 - categorical_accuracy: 0.9294\n",
      "Epoch 58/500\n",
      "3/3 [==============================] - 1s 309ms/step - loss: 0.2566 - categorical_accuracy: 0.9059\n",
      "Epoch 59/500\n",
      "3/3 [==============================] - 1s 309ms/step - loss: 0.5178 - categorical_accuracy: 0.7882\n",
      "Epoch 60/500\n",
      "3/3 [==============================] - 1s 322ms/step - loss: 0.4255 - categorical_accuracy: 0.8235\n",
      "Epoch 61/500\n",
      "3/3 [==============================] - 1s 308ms/step - loss: 0.8782 - categorical_accuracy: 0.7059\n",
      "Epoch 62/500\n",
      "3/3 [==============================] - 1s 299ms/step - loss: 0.8402 - categorical_accuracy: 0.5882\n",
      "Epoch 63/500\n",
      "3/3 [==============================] - 1s 331ms/step - loss: 0.6715 - categorical_accuracy: 0.6588\n",
      "Epoch 64/500\n",
      "3/3 [==============================] - 1s 319ms/step - loss: 1.1020 - categorical_accuracy: 0.6588\n",
      "Epoch 65/500\n",
      "3/3 [==============================] - 1s 307ms/step - loss: 0.6157 - categorical_accuracy: 0.6824\n",
      "Epoch 66/500\n",
      "3/3 [==============================] - 1s 333ms/step - loss: 152.2753 - categorical_accuracy: 0.4118\n",
      "Epoch 67/500\n",
      "3/3 [==============================] - 1s 323ms/step - loss: 325.3460 - categorical_accuracy: 0.2824\n",
      "Epoch 68/500\n",
      "3/3 [==============================] - 1s 303ms/step - loss: 160.7672 - categorical_accuracy: 0.4000\n",
      "Epoch 69/500\n",
      "3/3 [==============================] - 1s 316ms/step - loss: 41.3768 - categorical_accuracy: 0.3176\n",
      "Epoch 70/500\n",
      "3/3 [==============================] - 1s 296ms/step - loss: 9.9514 - categorical_accuracy: 0.3882\n",
      "Epoch 71/500\n",
      "3/3 [==============================] - 1s 310ms/step - loss: 1.6494 - categorical_accuracy: 0.3765\n",
      "Epoch 72/500\n",
      "3/3 [==============================] - 1s 310ms/step - loss: 1.6335 - categorical_accuracy: 0.3294\n",
      "Epoch 73/500\n",
      "3/3 [==============================] - 1s 319ms/step - loss: 1.3352 - categorical_accuracy: 0.3647\n",
      "Epoch 74/500\n"
     ]
    },
    {
     "name": "stdout",
     "output_type": "stream",
     "text": [
      "3/3 [==============================] - 1s 310ms/step - loss: 1.1758 - categorical_accuracy: 0.3529\n",
      "Epoch 75/500\n",
      "3/3 [==============================] - 1s 324ms/step - loss: 1.1282 - categorical_accuracy: 0.3529\n",
      "Epoch 76/500\n",
      "3/3 [==============================] - 1s 310ms/step - loss: 1.1151 - categorical_accuracy: 0.3412\n",
      "Epoch 77/500\n",
      "3/3 [==============================] - 1s 327ms/step - loss: 1.0957 - categorical_accuracy: 0.3529\n",
      "Epoch 78/500\n",
      "3/3 [==============================] - 1s 321ms/step - loss: 1.0646 - categorical_accuracy: 0.3647\n",
      "Epoch 79/500\n",
      "3/3 [==============================] - 1s 317ms/step - loss: 1.0547 - categorical_accuracy: 0.4353\n",
      "Epoch 80/500\n",
      "3/3 [==============================] - 1s 301ms/step - loss: 1.0379 - categorical_accuracy: 0.4235\n",
      "Epoch 81/500\n",
      "3/3 [==============================] - 1s 318ms/step - loss: 1.0290 - categorical_accuracy: 0.4353\n",
      "Epoch 82/500\n",
      "3/3 [==============================] - 1s 306ms/step - loss: 0.9871 - categorical_accuracy: 0.6353\n",
      "Epoch 83/500\n",
      "3/3 [==============================] - 1s 328ms/step - loss: 0.9471 - categorical_accuracy: 0.6000\n",
      "Epoch 84/500\n",
      "3/3 [==============================] - 1s 320ms/step - loss: 0.8886 - categorical_accuracy: 0.5412\n",
      "Epoch 85/500\n",
      "3/3 [==============================] - 1s 313ms/step - loss: 0.8331 - categorical_accuracy: 0.6353\n",
      "Epoch 86/500\n",
      "3/3 [==============================] - 1s 320ms/step - loss: 1.1069 - categorical_accuracy: 0.5294\n",
      "Epoch 87/500\n",
      "3/3 [==============================] - 1s 312ms/step - loss: 1.0228 - categorical_accuracy: 0.4824\n",
      "Epoch 88/500\n",
      "3/3 [==============================] - 1s 313ms/step - loss: 0.8457 - categorical_accuracy: 0.5176\n",
      "Epoch 89/500\n",
      "3/3 [==============================] - 1s 321ms/step - loss: 0.7726 - categorical_accuracy: 0.6471\n",
      "Epoch 90/500\n",
      "3/3 [==============================] - 1s 330ms/step - loss: 0.8747 - categorical_accuracy: 0.7412\n",
      "Epoch 91/500\n",
      "3/3 [==============================] - 1s 311ms/step - loss: 0.6836 - categorical_accuracy: 0.6118\n",
      "Epoch 92/500\n",
      "3/3 [==============================] - 1s 288ms/step - loss: 1.4576 - categorical_accuracy: 0.6706\n",
      "Epoch 93/500\n",
      "3/3 [==============================] - 1s 356ms/step - loss: 0.7722 - categorical_accuracy: 0.6588\n",
      "Epoch 94/500\n",
      "3/3 [==============================] - 1s 344ms/step - loss: 0.6112 - categorical_accuracy: 0.6941\n",
      "Epoch 95/500\n",
      "3/3 [==============================] - 1s 306ms/step - loss: 0.5920 - categorical_accuracy: 0.7059\n",
      "Epoch 96/500\n",
      "3/3 [==============================] - 1s 272ms/step - loss: 1.5824 - categorical_accuracy: 0.5059\n",
      "Epoch 97/500\n",
      "3/3 [==============================] - 1s 298ms/step - loss: 1.6041 - categorical_accuracy: 0.4118\n",
      "Epoch 98/500\n",
      "3/3 [==============================] - 1s 402ms/step - loss: 1.3914 - categorical_accuracy: 0.5176\n",
      "Epoch 99/500\n",
      "3/3 [==============================] - 1s 365ms/step - loss: 0.8470 - categorical_accuracy: 0.6353\n",
      "Epoch 100/500\n",
      "3/3 [==============================] - 1s 331ms/step - loss: 0.6572 - categorical_accuracy: 0.6941\n",
      "Epoch 101/500\n",
      "3/3 [==============================] - 1s 353ms/step - loss: 0.6402 - categorical_accuracy: 0.5647\n",
      "Epoch 102/500\n",
      "3/3 [==============================] - 1s 373ms/step - loss: 0.6543 - categorical_accuracy: 0.5529\n",
      "Epoch 103/500\n",
      "3/3 [==============================] - 1s 352ms/step - loss: 0.6046 - categorical_accuracy: 0.6118\n",
      "Epoch 104/500\n",
      "3/3 [==============================] - 1s 304ms/step - loss: 0.5878 - categorical_accuracy: 0.6118\n",
      "Epoch 105/500\n",
      "3/3 [==============================] - 1s 277ms/step - loss: 0.5301 - categorical_accuracy: 0.7412\n",
      "Epoch 106/500\n",
      "3/3 [==============================] - 1s 271ms/step - loss: 0.6290 - categorical_accuracy: 0.6824\n",
      "Epoch 107/500\n",
      "3/3 [==============================] - 1s 352ms/step - loss: 0.5050 - categorical_accuracy: 0.7529\n",
      "Epoch 108/500\n",
      "3/3 [==============================] - 1s 317ms/step - loss: 0.5000 - categorical_accuracy: 0.7647\n",
      "Epoch 109/500\n",
      "3/3 [==============================] - 1s 322ms/step - loss: 0.4885 - categorical_accuracy: 0.7765\n",
      "Epoch 110/500\n",
      "3/3 [==============================] - 1s 299ms/step - loss: 0.5215 - categorical_accuracy: 0.8000\n",
      "Epoch 111/500\n",
      "3/3 [==============================] - 1s 323ms/step - loss: 0.5203 - categorical_accuracy: 0.6706\n",
      "Epoch 112/500\n",
      "3/3 [==============================] - 1s 283ms/step - loss: 0.4791 - categorical_accuracy: 0.7529\n",
      "Epoch 113/500\n",
      "3/3 [==============================] - 1s 264ms/step - loss: 0.4703 - categorical_accuracy: 0.7176\n",
      "Epoch 114/500\n",
      "3/3 [==============================] - 1s 263ms/step - loss: 0.4519 - categorical_accuracy: 0.8118\n",
      "Epoch 115/500\n",
      "3/3 [==============================] - 1s 269ms/step - loss: 0.4576 - categorical_accuracy: 0.7529\n",
      "Epoch 116/500\n",
      "3/3 [==============================] - 1s 269ms/step - loss: 0.4307 - categorical_accuracy: 0.7765\n",
      "Epoch 117/500\n",
      "3/3 [==============================] - 1s 302ms/step - loss: 0.4485 - categorical_accuracy: 0.7294\n",
      "Epoch 118/500\n",
      "3/3 [==============================] - 1s 322ms/step - loss: 0.4338 - categorical_accuracy: 0.8118\n",
      "Epoch 119/500\n",
      "3/3 [==============================] - 1s 281ms/step - loss: 0.4469 - categorical_accuracy: 0.8118\n",
      "Epoch 120/500\n",
      "3/3 [==============================] - 1s 363ms/step - loss: 0.4175 - categorical_accuracy: 0.7882\n",
      "Epoch 121/500\n",
      "3/3 [==============================] - 1s 402ms/step - loss: 0.4147 - categorical_accuracy: 0.8000\n",
      "Epoch 122/500\n",
      "3/3 [==============================] - 2s 528ms/step - loss: 0.4118 - categorical_accuracy: 0.7882\n",
      "Epoch 123/500\n",
      "3/3 [==============================] - 1s 392ms/step - loss: 0.3915 - categorical_accuracy: 0.7882\n",
      "Epoch 124/500\n",
      "3/3 [==============================] - 1s 350ms/step - loss: 0.3602 - categorical_accuracy: 0.8706\n",
      "Epoch 125/500\n",
      "3/3 [==============================] - 1s 323ms/step - loss: 0.3481 - categorical_accuracy: 0.8706\n",
      "Epoch 126/500\n",
      "3/3 [==============================] - 1s 346ms/step - loss: 0.3795 - categorical_accuracy: 0.8000\n",
      "Epoch 127/500\n",
      "3/3 [==============================] - 1s 358ms/step - loss: 0.3607 - categorical_accuracy: 0.8235\n",
      "Epoch 128/500\n",
      "3/3 [==============================] - 1s 335ms/step - loss: 0.3406 - categorical_accuracy: 0.8471\n",
      "Epoch 129/500\n",
      "3/3 [==============================] - 1s 335ms/step - loss: 0.3866 - categorical_accuracy: 0.7765\n",
      "Epoch 130/500\n",
      "3/3 [==============================] - 1s 361ms/step - loss: 0.5419 - categorical_accuracy: 0.7294\n",
      "Epoch 131/500\n",
      "3/3 [==============================] - 1s 358ms/step - loss: 0.6642 - categorical_accuracy: 0.6824\n",
      "Epoch 132/500\n",
      "3/3 [==============================] - 1s 359ms/step - loss: 0.5566 - categorical_accuracy: 0.6000\n",
      "Epoch 133/500\n",
      "3/3 [==============================] - 1s 340ms/step - loss: 0.4481 - categorical_accuracy: 0.7176\n",
      "Epoch 134/500\n",
      "3/3 [==============================] - 1s 340ms/step - loss: 0.4606 - categorical_accuracy: 0.7647\n",
      "Epoch 135/500\n",
      "3/3 [==============================] - 1s 330ms/step - loss: 0.4821 - categorical_accuracy: 0.7176\n",
      "Epoch 136/500\n",
      "3/3 [==============================] - 1s 341ms/step - loss: 0.6007 - categorical_accuracy: 0.6588\n",
      "Epoch 137/500\n",
      "3/3 [==============================] - 1s 354ms/step - loss: 0.5415 - categorical_accuracy: 0.6824\n",
      "Epoch 138/500\n",
      "3/3 [==============================] - 1s 384ms/step - loss: 0.5222 - categorical_accuracy: 0.6941\n",
      "Epoch 139/500\n",
      "3/3 [==============================] - 1s 339ms/step - loss: 0.4860 - categorical_accuracy: 0.7765\n",
      "Epoch 140/500\n",
      "3/3 [==============================] - 1s 398ms/step - loss: 0.4434 - categorical_accuracy: 0.7882\n",
      "Epoch 141/500\n",
      "3/3 [==============================] - 1s 348ms/step - loss: 0.4263 - categorical_accuracy: 0.7882\n",
      "Epoch 142/500\n",
      "3/3 [==============================] - 1s 349ms/step - loss: 0.4095 - categorical_accuracy: 0.7647\n",
      "Epoch 143/500\n",
      "3/3 [==============================] - 1s 353ms/step - loss: 0.3722 - categorical_accuracy: 0.8941\n",
      "Epoch 144/500\n",
      "3/3 [==============================] - 1s 315ms/step - loss: 0.4048 - categorical_accuracy: 0.8000\n",
      "Epoch 145/500\n",
      "3/3 [==============================] - 1s 300ms/step - loss: 0.3583 - categorical_accuracy: 0.8588\n",
      "Epoch 146/500\n"
     ]
    },
    {
     "name": "stdout",
     "output_type": "stream",
     "text": [
      "3/3 [==============================] - 1s 355ms/step - loss: 0.3532 - categorical_accuracy: 0.8353\n",
      "Epoch 147/500\n",
      "3/3 [==============================] - 1s 280ms/step - loss: 0.3616 - categorical_accuracy: 0.8000\n",
      "Epoch 148/500\n",
      "3/3 [==============================] - 1s 290ms/step - loss: 0.3295 - categorical_accuracy: 0.8471\n",
      "Epoch 149/500\n",
      "3/3 [==============================] - 1s 288ms/step - loss: 0.3094 - categorical_accuracy: 0.8824\n",
      "Epoch 150/500\n",
      "3/3 [==============================] - 1s 352ms/step - loss: 0.3579 - categorical_accuracy: 0.8235\n",
      "Epoch 151/500\n",
      "3/3 [==============================] - 1s 352ms/step - loss: 0.3712 - categorical_accuracy: 0.7882\n",
      "Epoch 152/500\n",
      "3/3 [==============================] - 1s 278ms/step - loss: 0.3370 - categorical_accuracy: 0.8118\n",
      "Epoch 153/500\n",
      "3/3 [==============================] - 1s 351ms/step - loss: 0.3057 - categorical_accuracy: 0.8706\n",
      "Epoch 154/500\n",
      "3/3 [==============================] - 1s 346ms/step - loss: 0.3232 - categorical_accuracy: 0.8353\n",
      "Epoch 155/500\n",
      "3/3 [==============================] - 1s 399ms/step - loss: 0.2636 - categorical_accuracy: 0.8824\n",
      "Epoch 156/500\n",
      "3/3 [==============================] - 1s 313ms/step - loss: 0.2762 - categorical_accuracy: 0.8941\n",
      "Epoch 157/500\n",
      "3/3 [==============================] - 1s 346ms/step - loss: 0.3141 - categorical_accuracy: 0.8471\n",
      "Epoch 158/500\n",
      "3/3 [==============================] - 1s 339ms/step - loss: 0.2687 - categorical_accuracy: 0.9059\n",
      "Epoch 159/500\n",
      "3/3 [==============================] - 1s 375ms/step - loss: 0.2847 - categorical_accuracy: 0.8471\n",
      "Epoch 160/500\n",
      "3/3 [==============================] - 1s 308ms/step - loss: 0.3566 - categorical_accuracy: 0.8235\n",
      "Epoch 161/500\n",
      "3/3 [==============================] - 1s 319ms/step - loss: 0.5995 - categorical_accuracy: 0.7176\n",
      "Epoch 162/500\n",
      "3/3 [==============================] - 1s 301ms/step - loss: 0.3424 - categorical_accuracy: 0.8353\n",
      "Epoch 163/500\n",
      "3/3 [==============================] - 1s 306ms/step - loss: 0.4318 - categorical_accuracy: 0.7412\n",
      "Epoch 164/500\n",
      "3/3 [==============================] - 1s 335ms/step - loss: 0.3251 - categorical_accuracy: 0.8941\n",
      "Epoch 165/500\n",
      "3/3 [==============================] - 1s 374ms/step - loss: 0.2979 - categorical_accuracy: 0.8941\n",
      "Epoch 166/500\n",
      "3/3 [==============================] - 1s 323ms/step - loss: 0.3232 - categorical_accuracy: 0.8588\n",
      "Epoch 167/500\n",
      "3/3 [==============================] - 1s 441ms/step - loss: 0.2881 - categorical_accuracy: 0.8824\n",
      "Epoch 168/500\n",
      "3/3 [==============================] - 1s 388ms/step - loss: 0.2880 - categorical_accuracy: 0.9059\n",
      "Epoch 169/500\n",
      "3/3 [==============================] - 2s 660ms/step - loss: 0.3603 - categorical_accuracy: 0.8471\n",
      "Epoch 170/500\n",
      "3/3 [==============================] - 2s 721ms/step - loss: 0.3559 - categorical_accuracy: 0.8118\n",
      "Epoch 171/500\n",
      "3/3 [==============================] - 1s 298ms/step - loss: 0.2817 - categorical_accuracy: 0.9059\n",
      "Epoch 172/500\n",
      "3/3 [==============================] - 1s 425ms/step - loss: 0.3058 - categorical_accuracy: 0.8588\n",
      "Epoch 173/500\n",
      "3/3 [==============================] - 1s 328ms/step - loss: 0.2953 - categorical_accuracy: 0.8706\n",
      "Epoch 174/500\n",
      "3/3 [==============================] - 1s 297ms/step - loss: 0.4676 - categorical_accuracy: 0.7412\n",
      "Epoch 175/500\n",
      "3/3 [==============================] - 1s 340ms/step - loss: 0.4890 - categorical_accuracy: 0.7529\n",
      "Epoch 176/500\n",
      "3/3 [==============================] - 1s 292ms/step - loss: 0.3833 - categorical_accuracy: 0.8235\n",
      "Epoch 177/500\n",
      "3/3 [==============================] - 1s 394ms/step - loss: 0.4021 - categorical_accuracy: 0.8235\n",
      "Epoch 178/500\n",
      "3/3 [==============================] - 1s 296ms/step - loss: 0.3894 - categorical_accuracy: 0.8000\n",
      "Epoch 179/500\n",
      "3/3 [==============================] - 1s 287ms/step - loss: 0.3215 - categorical_accuracy: 0.8824\n",
      "Epoch 180/500\n",
      "3/3 [==============================] - 1s 310ms/step - loss: 0.3275 - categorical_accuracy: 0.8941\n",
      "Epoch 181/500\n",
      "3/3 [==============================] - 1s 321ms/step - loss: 0.3135 - categorical_accuracy: 0.8824\n",
      "Epoch 182/500\n",
      "3/3 [==============================] - 1s 303ms/step - loss: 0.3141 - categorical_accuracy: 0.8824\n",
      "Epoch 183/500\n",
      "3/3 [==============================] - 1s 329ms/step - loss: 0.2800 - categorical_accuracy: 0.9176\n",
      "Epoch 184/500\n",
      "3/3 [==============================] - 1s 337ms/step - loss: 0.2565 - categorical_accuracy: 0.9294\n",
      "Epoch 185/500\n",
      "3/3 [==============================] - 1s 308ms/step - loss: 0.2489 - categorical_accuracy: 0.9294\n",
      "Epoch 186/500\n",
      "3/3 [==============================] - 1s 346ms/step - loss: 0.2581 - categorical_accuracy: 0.8588\n",
      "Epoch 187/500\n",
      "3/3 [==============================] - 1s 325ms/step - loss: 0.4688 - categorical_accuracy: 0.7765\n",
      "Epoch 188/500\n",
      "3/3 [==============================] - 1s 290ms/step - loss: 0.3413 - categorical_accuracy: 0.8353\n",
      "Epoch 189/500\n",
      "3/3 [==============================] - 1s 331ms/step - loss: 0.2949 - categorical_accuracy: 0.8706\n",
      "Epoch 190/500\n",
      "3/3 [==============================] - 1s 301ms/step - loss: 0.2516 - categorical_accuracy: 0.9059\n",
      "Epoch 191/500\n",
      "3/3 [==============================] - 1s 306ms/step - loss: 0.2734 - categorical_accuracy: 0.8941\n",
      "Epoch 192/500\n",
      "3/3 [==============================] - 1s 321ms/step - loss: 0.2870 - categorical_accuracy: 0.8588\n",
      "Epoch 193/500\n",
      "3/3 [==============================] - 1s 342ms/step - loss: 0.2506 - categorical_accuracy: 0.8941\n",
      "Epoch 194/500\n",
      "3/3 [==============================] - 1s 338ms/step - loss: 0.2114 - categorical_accuracy: 0.8941\n",
      "Epoch 195/500\n",
      "3/3 [==============================] - 1s 357ms/step - loss: 0.2010 - categorical_accuracy: 0.9176\n",
      "Epoch 196/500\n",
      "3/3 [==============================] - 1s 308ms/step - loss: 0.1930 - categorical_accuracy: 0.9176\n",
      "Epoch 197/500\n",
      "3/3 [==============================] - 1s 330ms/step - loss: 0.2754 - categorical_accuracy: 0.8588\n",
      "Epoch 198/500\n",
      "3/3 [==============================] - 1s 351ms/step - loss: 0.2372 - categorical_accuracy: 0.8824\n",
      "Epoch 199/500\n",
      "3/3 [==============================] - 1s 326ms/step - loss: 0.2452 - categorical_accuracy: 0.8941\n",
      "Epoch 200/500\n",
      "3/3 [==============================] - 1s 357ms/step - loss: 0.1799 - categorical_accuracy: 0.9529\n",
      "Epoch 201/500\n",
      "3/3 [==============================] - 1s 317ms/step - loss: 0.1676 - categorical_accuracy: 0.9529\n",
      "Epoch 202/500\n",
      "3/3 [==============================] - 1s 302ms/step - loss: 0.1496 - categorical_accuracy: 0.9647\n",
      "Epoch 203/500\n",
      "3/3 [==============================] - 1s 317ms/step - loss: 0.1254 - categorical_accuracy: 0.9647\n",
      "Epoch 204/500\n",
      "3/3 [==============================] - 1s 396ms/step - loss: 0.1371 - categorical_accuracy: 0.9647\n",
      "Epoch 205/500\n",
      "3/3 [==============================] - 1s 324ms/step - loss: 0.2695 - categorical_accuracy: 0.8941\n",
      "Epoch 206/500\n",
      "3/3 [==============================] - 1s 373ms/step - loss: 0.1748 - categorical_accuracy: 0.9529\n",
      "Epoch 207/500\n",
      "3/3 [==============================] - 1s 337ms/step - loss: 0.2299 - categorical_accuracy: 0.9176\n",
      "Epoch 208/500\n",
      "3/3 [==============================] - 1s 312ms/step - loss: 0.2875 - categorical_accuracy: 0.8824\n",
      "Epoch 209/500\n",
      "3/3 [==============================] - 1s 306ms/step - loss: 0.3659 - categorical_accuracy: 0.7765\n",
      "Epoch 210/500\n",
      "3/3 [==============================] - 1s 339ms/step - loss: 0.3155 - categorical_accuracy: 0.8706\n",
      "Epoch 211/500\n",
      "3/3 [==============================] - 1s 309ms/step - loss: 0.2004 - categorical_accuracy: 0.9529\n",
      "Epoch 212/500\n",
      "3/3 [==============================] - 1s 297ms/step - loss: 0.2556 - categorical_accuracy: 0.9176\n",
      "Epoch 213/500\n",
      "3/3 [==============================] - 1s 331ms/step - loss: 0.2103 - categorical_accuracy: 0.8824\n",
      "Epoch 214/500\n",
      "3/3 [==============================] - 1s 369ms/step - loss: 0.2191 - categorical_accuracy: 0.9059\n",
      "Epoch 215/500\n",
      "3/3 [==============================] - 1s 301ms/step - loss: 0.4054 - categorical_accuracy: 0.8824\n",
      "Epoch 216/500\n",
      "3/3 [==============================] - 1s 321ms/step - loss: 0.1538 - categorical_accuracy: 0.9647\n",
      "Epoch 217/500\n",
      "3/3 [==============================] - 1s 326ms/step - loss: 0.1282 - categorical_accuracy: 0.9647\n",
      "Epoch 218/500\n"
     ]
    },
    {
     "name": "stdout",
     "output_type": "stream",
     "text": [
      "3/3 [==============================] - 1s 333ms/step - loss: 0.2356 - categorical_accuracy: 0.8588\n",
      "Epoch 219/500\n",
      "3/3 [==============================] - 1s 370ms/step - loss: 0.3648 - categorical_accuracy: 0.8235\n",
      "Epoch 220/500\n",
      "3/3 [==============================] - 1s 347ms/step - loss: 0.2418 - categorical_accuracy: 0.9294\n",
      "Epoch 221/500\n",
      "3/3 [==============================] - 1s 311ms/step - loss: 0.3087 - categorical_accuracy: 0.8353\n",
      "Epoch 222/500\n",
      "3/3 [==============================] - 1s 293ms/step - loss: 0.2187 - categorical_accuracy: 0.8824\n",
      "Epoch 223/500\n",
      "3/3 [==============================] - 1s 294ms/step - loss: 0.3070 - categorical_accuracy: 0.8471\n",
      "Epoch 224/500\n",
      "3/3 [==============================] - 1s 321ms/step - loss: 0.3124 - categorical_accuracy: 0.8471\n",
      "Epoch 225/500\n",
      "3/3 [==============================] - 1s 322ms/step - loss: 0.2071 - categorical_accuracy: 0.9412\n",
      "Epoch 226/500\n",
      "3/3 [==============================] - 1s 311ms/step - loss: 0.3410 - categorical_accuracy: 0.8000\n",
      "Epoch 227/500\n",
      "3/3 [==============================] - 1s 316ms/step - loss: 0.2470 - categorical_accuracy: 0.9294\n",
      "Epoch 228/500\n",
      "3/3 [==============================] - 1s 304ms/step - loss: 0.2059 - categorical_accuracy: 0.9529\n",
      "Epoch 229/500\n",
      "3/3 [==============================] - 1s 322ms/step - loss: 0.2371 - categorical_accuracy: 0.8588\n",
      "Epoch 230/500\n",
      "3/3 [==============================] - 1s 335ms/step - loss: 0.1533 - categorical_accuracy: 0.9765\n",
      "Epoch 231/500\n",
      "3/3 [==============================] - 1s 292ms/step - loss: 0.1653 - categorical_accuracy: 0.9647\n",
      "Epoch 232/500\n",
      "3/3 [==============================] - 1s 348ms/step - loss: 0.2048 - categorical_accuracy: 0.8824\n",
      "Epoch 233/500\n",
      "3/3 [==============================] - 1s 333ms/step - loss: 0.1142 - categorical_accuracy: 0.9765\n",
      "Epoch 234/500\n",
      "3/3 [==============================] - 1s 309ms/step - loss: 0.1097 - categorical_accuracy: 0.9647\n",
      "Epoch 235/500\n",
      "3/3 [==============================] - 1s 282ms/step - loss: 0.1219 - categorical_accuracy: 0.9647\n",
      "Epoch 236/500\n",
      "3/3 [==============================] - 1s 276ms/step - loss: 0.1442 - categorical_accuracy: 0.9294\n",
      "Epoch 237/500\n",
      "3/3 [==============================] - 1s 311ms/step - loss: 0.1168 - categorical_accuracy: 0.9529\n",
      "Epoch 238/500\n",
      "3/3 [==============================] - 1s 335ms/step - loss: 0.1922 - categorical_accuracy: 0.9059\n",
      "Epoch 239/500\n",
      "3/3 [==============================] - 1s 294ms/step - loss: 0.2842 - categorical_accuracy: 0.8824\n",
      "Epoch 240/500\n",
      "3/3 [==============================] - 1s 293ms/step - loss: 0.3320 - categorical_accuracy: 0.8118\n",
      "Epoch 241/500\n",
      "3/3 [==============================] - 1s 318ms/step - loss: 0.3762 - categorical_accuracy: 0.8353\n",
      "Epoch 242/500\n",
      "3/3 [==============================] - 1s 357ms/step - loss: 0.3035 - categorical_accuracy: 0.8471\n",
      "Epoch 243/500\n",
      "3/3 [==============================] - 1s 345ms/step - loss: 0.2581 - categorical_accuracy: 0.8824\n",
      "Epoch 244/500\n",
      "3/3 [==============================] - 1s 583ms/step - loss: 0.2631 - categorical_accuracy: 0.8588\n",
      "Epoch 245/500\n",
      "3/3 [==============================] - 1s 337ms/step - loss: 0.2173 - categorical_accuracy: 0.9059\n",
      "Epoch 246/500\n",
      "3/3 [==============================] - 1s 413ms/step - loss: 0.1795 - categorical_accuracy: 0.9529\n",
      "Epoch 247/500\n",
      "3/3 [==============================] - 1s 338ms/step - loss: 0.1570 - categorical_accuracy: 0.9647\n",
      "Epoch 248/500\n",
      "3/3 [==============================] - 1s 291ms/step - loss: 0.1267 - categorical_accuracy: 0.9647\n",
      "Epoch 249/500\n",
      "3/3 [==============================] - 1s 312ms/step - loss: 0.0924 - categorical_accuracy: 0.9765\n",
      "Epoch 250/500\n",
      "3/3 [==============================] - 1s 283ms/step - loss: 0.1208 - categorical_accuracy: 0.9647\n",
      "Epoch 251/500\n",
      "3/3 [==============================] - 1s 347ms/step - loss: 0.1544 - categorical_accuracy: 0.9294\n",
      "Epoch 252/500\n",
      "3/3 [==============================] - 1s 338ms/step - loss: 0.3887 - categorical_accuracy: 0.8588\n",
      "Epoch 253/500\n",
      "3/3 [==============================] - 1s 299ms/step - loss: 0.2320 - categorical_accuracy: 0.9412\n",
      "Epoch 254/500\n",
      "3/3 [==============================] - 1s 286ms/step - loss: 0.1334 - categorical_accuracy: 0.9529\n",
      "Epoch 255/500\n",
      "3/3 [==============================] - 1s 303ms/step - loss: 0.1266 - categorical_accuracy: 0.9412\n",
      "Epoch 256/500\n",
      "3/3 [==============================] - 1s 300ms/step - loss: 0.1582 - categorical_accuracy: 0.9529\n",
      "Epoch 257/500\n",
      "3/3 [==============================] - 1s 503ms/step - loss: 0.0987 - categorical_accuracy: 0.9412\n",
      "Epoch 258/500\n",
      "3/3 [==============================] - 2s 512ms/step - loss: 0.1363 - categorical_accuracy: 0.9529\n",
      "Epoch 259/500\n",
      "3/3 [==============================] - 2s 653ms/step - loss: 0.0938 - categorical_accuracy: 0.9647\n",
      "Epoch 260/500\n",
      "3/3 [==============================] - 1s 285ms/step - loss: 0.0839 - categorical_accuracy: 0.9765\n",
      "Epoch 261/500\n",
      "3/3 [==============================] - 1s 422ms/step - loss: 0.1205 - categorical_accuracy: 0.9412\n",
      "Epoch 262/500\n",
      "3/3 [==============================] - 1s 361ms/step - loss: 0.1956 - categorical_accuracy: 0.9176\n",
      "Epoch 263/500\n",
      "3/3 [==============================] - 2s 623ms/step - loss: 0.1996 - categorical_accuracy: 0.9294\n",
      "Epoch 264/500\n",
      "3/3 [==============================] - 1s 437ms/step - loss: 0.0873 - categorical_accuracy: 0.9765\n",
      "Epoch 265/500\n",
      "3/3 [==============================] - 1s 412ms/step - loss: 0.0939 - categorical_accuracy: 0.9647\n",
      "Epoch 266/500\n",
      "3/3 [==============================] - 1s 461ms/step - loss: 0.0974 - categorical_accuracy: 0.9647\n",
      "Epoch 267/500\n",
      "3/3 [==============================] - 1s 368ms/step - loss: 0.0900 - categorical_accuracy: 0.9647\n",
      "Epoch 268/500\n",
      "3/3 [==============================] - 2s 853ms/step - loss: 0.0712 - categorical_accuracy: 0.9765\n",
      "Epoch 269/500\n",
      "3/3 [==============================] - 2s 601ms/step - loss: 0.0866 - categorical_accuracy: 0.9765\n",
      "Epoch 270/500\n",
      "3/3 [==============================] - 2s 644ms/step - loss: 0.0831 - categorical_accuracy: 0.9529\n",
      "Epoch 271/500\n",
      "3/3 [==============================] - 1s 345ms/step - loss: 0.0834 - categorical_accuracy: 0.9647\n",
      "Epoch 272/500\n",
      "3/3 [==============================] - 1s 323ms/step - loss: 0.0905 - categorical_accuracy: 0.9647\n",
      "Epoch 273/500\n",
      "3/3 [==============================] - 1s 302ms/step - loss: 0.0721 - categorical_accuracy: 0.9765\n",
      "Epoch 274/500\n",
      "3/3 [==============================] - 1s 353ms/step - loss: 0.0660 - categorical_accuracy: 0.9765\n",
      "Epoch 275/500\n",
      "3/3 [==============================] - 1s 312ms/step - loss: 0.1277 - categorical_accuracy: 0.9529\n",
      "Epoch 276/500\n",
      "3/3 [==============================] - 1s 506ms/step - loss: 0.0683 - categorical_accuracy: 0.9765\n",
      "Epoch 277/500\n",
      "3/3 [==============================] - 2s 640ms/step - loss: 0.0547 - categorical_accuracy: 0.9765\n",
      "Epoch 278/500\n",
      "3/3 [==============================] - 1s 329ms/step - loss: 0.0430 - categorical_accuracy: 0.9882\n",
      "Epoch 279/500\n",
      "3/3 [==============================] - 1s 314ms/step - loss: 0.0465 - categorical_accuracy: 0.9882\n",
      "Epoch 280/500\n",
      "3/3 [==============================] - 1s 348ms/step - loss: 0.0393 - categorical_accuracy: 0.9882\n",
      "Epoch 281/500\n",
      "3/3 [==============================] - 1s 534ms/step - loss: 0.0502 - categorical_accuracy: 0.9882\n",
      "Epoch 282/500\n",
      "3/3 [==============================] - 1s 384ms/step - loss: 0.0319 - categorical_accuracy: 0.9882\n",
      "Epoch 283/500\n",
      "3/3 [==============================] - 1s 336ms/step - loss: 0.0474 - categorical_accuracy: 0.9765\n",
      "Epoch 284/500\n",
      "3/3 [==============================] - 1s 345ms/step - loss: 0.0443 - categorical_accuracy: 0.9882\n",
      "Epoch 285/500\n",
      "3/3 [==============================] - 1s 323ms/step - loss: 0.1025 - categorical_accuracy: 0.9647\n",
      "Epoch 286/500\n",
      "3/3 [==============================] - 1s 397ms/step - loss: 0.0552 - categorical_accuracy: 0.9882\n",
      "Epoch 287/500\n",
      "3/3 [==============================] - 1s 336ms/step - loss: 0.0539 - categorical_accuracy: 0.9765\n",
      "Epoch 288/500\n",
      "3/3 [==============================] - 1s 343ms/step - loss: 0.0415 - categorical_accuracy: 0.9765\n",
      "Epoch 289/500\n",
      "3/3 [==============================] - 1s 315ms/step - loss: 0.0641 - categorical_accuracy: 0.9647\n",
      "Epoch 290/500\n"
     ]
    },
    {
     "name": "stdout",
     "output_type": "stream",
     "text": [
      "3/3 [==============================] - 1s 321ms/step - loss: 0.0459 - categorical_accuracy: 0.9765\n",
      "Epoch 291/500\n",
      "3/3 [==============================] - 1s 312ms/step - loss: 0.0355 - categorical_accuracy: 0.9882\n",
      "Epoch 292/500\n",
      "3/3 [==============================] - 1s 401ms/step - loss: 0.0304 - categorical_accuracy: 1.0000\n",
      "Epoch 293/500\n",
      "3/3 [==============================] - 1s 368ms/step - loss: 0.0401 - categorical_accuracy: 0.9765\n",
      "Epoch 294/500\n",
      "3/3 [==============================] - 2s 507ms/step - loss: 0.0521 - categorical_accuracy: 0.9647\n",
      "Epoch 295/500\n",
      "3/3 [==============================] - 1s 344ms/step - loss: 0.0716 - categorical_accuracy: 0.9882\n",
      "Epoch 296/500\n",
      "3/3 [==============================] - 1s 318ms/step - loss: 0.0848 - categorical_accuracy: 0.9529\n",
      "Epoch 297/500\n",
      "3/3 [==============================] - 1s 414ms/step - loss: 0.0953 - categorical_accuracy: 0.9647\n",
      "Epoch 298/500\n",
      "3/3 [==============================] - 1s 340ms/step - loss: 0.0280 - categorical_accuracy: 1.0000\n",
      "Epoch 299/500\n",
      "3/3 [==============================] - 1s 406ms/step - loss: 0.0395 - categorical_accuracy: 1.0000\n",
      "Epoch 300/500\n",
      "3/3 [==============================] - 1s 387ms/step - loss: 0.0657 - categorical_accuracy: 0.9765\n",
      "Epoch 301/500\n",
      "3/3 [==============================] - 1s 341ms/step - loss: 0.0630 - categorical_accuracy: 0.9765\n",
      "Epoch 302/500\n",
      "3/3 [==============================] - 1s 369ms/step - loss: 0.1065 - categorical_accuracy: 0.9647\n",
      "Epoch 303/500\n",
      "3/3 [==============================] - 1s 356ms/step - loss: 0.0823 - categorical_accuracy: 0.9412\n",
      "Epoch 304/500\n",
      "3/3 [==============================] - 1s 344ms/step - loss: 0.0400 - categorical_accuracy: 0.9882\n",
      "Epoch 305/500\n",
      "3/3 [==============================] - 1s 366ms/step - loss: 0.0609 - categorical_accuracy: 0.9647\n",
      "Epoch 306/500\n",
      "3/3 [==============================] - 1s 320ms/step - loss: 0.0441 - categorical_accuracy: 0.9765\n",
      "Epoch 307/500\n",
      "3/3 [==============================] - 1s 361ms/step - loss: 0.2550 - categorical_accuracy: 0.9059\n",
      "Epoch 308/500\n",
      "3/3 [==============================] - 1s 373ms/step - loss: 0.4646 - categorical_accuracy: 0.8588\n",
      "Epoch 309/500\n",
      "3/3 [==============================] - 1s 334ms/step - loss: 0.7748 - categorical_accuracy: 0.7294\n",
      "Epoch 310/500\n",
      "3/3 [==============================] - 1s 332ms/step - loss: 0.3386 - categorical_accuracy: 0.8471\n",
      "Epoch 311/500\n",
      "3/3 [==============================] - 1s 361ms/step - loss: 0.1555 - categorical_accuracy: 0.9529\n",
      "Epoch 312/500\n",
      "3/3 [==============================] - 1s 374ms/step - loss: 0.2075 - categorical_accuracy: 0.9294\n",
      "Epoch 313/500\n",
      "3/3 [==============================] - 1s 356ms/step - loss: 0.2820 - categorical_accuracy: 0.8941\n",
      "Epoch 314/500\n",
      "3/3 [==============================] - 1s 368ms/step - loss: 0.1992 - categorical_accuracy: 0.9412\n",
      "Epoch 315/500\n",
      "3/3 [==============================] - 1s 450ms/step - loss: 0.1534 - categorical_accuracy: 0.9882\n",
      "Epoch 316/500\n",
      "3/3 [==============================] - 1s 389ms/step - loss: 0.1411 - categorical_accuracy: 0.9647\n",
      "Epoch 317/500\n",
      "3/3 [==============================] - 1s 436ms/step - loss: 0.1200 - categorical_accuracy: 0.9765\n",
      "Epoch 318/500\n",
      "3/3 [==============================] - 1s 450ms/step - loss: 0.1202 - categorical_accuracy: 0.9765\n",
      "Epoch 319/500\n",
      "3/3 [==============================] - 1s 406ms/step - loss: 0.0887 - categorical_accuracy: 0.9882\n",
      "Epoch 320/500\n",
      "3/3 [==============================] - 1s 460ms/step - loss: 0.0724 - categorical_accuracy: 0.9882\n",
      "Epoch 321/500\n",
      "3/3 [==============================] - 1s 396ms/step - loss: 0.0471 - categorical_accuracy: 1.0000\n",
      "Epoch 322/500\n",
      "3/3 [==============================] - 1s 371ms/step - loss: 0.0527 - categorical_accuracy: 0.9882\n",
      "Epoch 323/500\n",
      "3/3 [==============================] - 1s 386ms/step - loss: 0.0317 - categorical_accuracy: 1.0000\n",
      "Epoch 324/500\n",
      "3/3 [==============================] - 1s 344ms/step - loss: 0.0262 - categorical_accuracy: 1.0000\n",
      "Epoch 325/500\n",
      "3/3 [==============================] - 1s 347ms/step - loss: 0.0258 - categorical_accuracy: 1.0000\n",
      "Epoch 326/500\n",
      "3/3 [==============================] - 1s 338ms/step - loss: 0.0303 - categorical_accuracy: 0.9882\n",
      "Epoch 327/500\n",
      "3/3 [==============================] - 1s 368ms/step - loss: 0.0384 - categorical_accuracy: 0.9765\n",
      "Epoch 328/500\n",
      "3/3 [==============================] - 1s 353ms/step - loss: 0.0340 - categorical_accuracy: 0.9882\n",
      "Epoch 329/500\n",
      "3/3 [==============================] - 1s 348ms/step - loss: 0.2349 - categorical_accuracy: 0.9412\n",
      "Epoch 330/500\n",
      "3/3 [==============================] - 1s 361ms/step - loss: 0.4030 - categorical_accuracy: 0.8706\n",
      "Epoch 331/500\n",
      "3/3 [==============================] - 1s 359ms/step - loss: 0.1682 - categorical_accuracy: 0.9647\n",
      "Epoch 332/500\n",
      "3/3 [==============================] - 1s 361ms/step - loss: 0.2211 - categorical_accuracy: 0.9294\n",
      "Epoch 333/500\n",
      "3/3 [==============================] - 1s 319ms/step - loss: 0.0965 - categorical_accuracy: 0.9765\n",
      "Epoch 334/500\n",
      "3/3 [==============================] - 1s 355ms/step - loss: 0.0949 - categorical_accuracy: 0.9647\n",
      "Epoch 335/500\n",
      "3/3 [==============================] - 1s 312ms/step - loss: 0.0869 - categorical_accuracy: 0.9647\n",
      "Epoch 336/500\n",
      "3/3 [==============================] - 1s 375ms/step - loss: 0.0991 - categorical_accuracy: 0.9765\n",
      "Epoch 337/500\n",
      "3/3 [==============================] - 1s 324ms/step - loss: 0.0621 - categorical_accuracy: 0.9647\n",
      "Epoch 338/500\n",
      "3/3 [==============================] - 1s 357ms/step - loss: 0.1108 - categorical_accuracy: 0.9529\n",
      "Epoch 339/500\n",
      "3/3 [==============================] - 1s 375ms/step - loss: 0.0470 - categorical_accuracy: 0.9882\n",
      "Epoch 340/500\n",
      "3/3 [==============================] - 1s 394ms/step - loss: 0.0804 - categorical_accuracy: 0.9647\n",
      "Epoch 341/500\n",
      "3/3 [==============================] - 1s 365ms/step - loss: 0.0316 - categorical_accuracy: 1.0000\n",
      "Epoch 342/500\n",
      "3/3 [==============================] - 1s 343ms/step - loss: 0.0549 - categorical_accuracy: 1.0000\n",
      "Epoch 343/500\n",
      "3/3 [==============================] - 1s 389ms/step - loss: 0.0456 - categorical_accuracy: 0.9882\n",
      "Epoch 344/500\n",
      "3/3 [==============================] - 1s 342ms/step - loss: 0.0759 - categorical_accuracy: 0.9647\n",
      "Epoch 345/500\n",
      "3/3 [==============================] - 1s 391ms/step - loss: 0.0472 - categorical_accuracy: 0.9882\n",
      "Epoch 346/500\n",
      "3/3 [==============================] - 1s 347ms/step - loss: 0.0592 - categorical_accuracy: 0.9765\n",
      "Epoch 347/500\n",
      "3/3 [==============================] - 1s 358ms/step - loss: 0.0567 - categorical_accuracy: 0.9765\n",
      "Epoch 348/500\n",
      "3/3 [==============================] - 1s 370ms/step - loss: 0.0428 - categorical_accuracy: 1.0000\n",
      "Epoch 349/500\n",
      "3/3 [==============================] - 1s 338ms/step - loss: 0.0303 - categorical_accuracy: 0.9882\n",
      "Epoch 350/500\n",
      "3/3 [==============================] - 1s 385ms/step - loss: 0.0249 - categorical_accuracy: 1.0000\n",
      "Epoch 351/500\n",
      "3/3 [==============================] - 1s 336ms/step - loss: 0.0208 - categorical_accuracy: 1.0000\n",
      "Epoch 352/500\n",
      "3/3 [==============================] - 1s 335ms/step - loss: 0.0170 - categorical_accuracy: 1.0000\n",
      "Epoch 353/500\n",
      "3/3 [==============================] - 1s 377ms/step - loss: 0.0149 - categorical_accuracy: 1.0000\n",
      "Epoch 354/500\n",
      "3/3 [==============================] - 1s 337ms/step - loss: 0.0095 - categorical_accuracy: 1.0000\n",
      "Epoch 355/500\n",
      "3/3 [==============================] - 1s 413ms/step - loss: 0.0078 - categorical_accuracy: 1.0000\n",
      "Epoch 356/500\n",
      "3/3 [==============================] - 1s 372ms/step - loss: 0.0493 - categorical_accuracy: 0.9765\n",
      "Epoch 357/500\n",
      "3/3 [==============================] - 1s 379ms/step - loss: 0.1699 - categorical_accuracy: 0.9412\n",
      "Epoch 358/500\n",
      "3/3 [==============================] - 1s 400ms/step - loss: 0.2786 - categorical_accuracy: 0.9059\n",
      "Epoch 359/500\n",
      "3/3 [==============================] - 1s 380ms/step - loss: 0.2424 - categorical_accuracy: 0.9059\n",
      "Epoch 360/500\n",
      "3/3 [==============================] - 1s 324ms/step - loss: 0.1539 - categorical_accuracy: 0.9412\n",
      "Epoch 361/500\n",
      "3/3 [==============================] - 1s 363ms/step - loss: 0.0980 - categorical_accuracy: 0.9647\n",
      "Epoch 362/500\n"
     ]
    },
    {
     "name": "stdout",
     "output_type": "stream",
     "text": [
      "3/3 [==============================] - 1s 364ms/step - loss: 0.0861 - categorical_accuracy: 0.9765\n",
      "Epoch 363/500\n",
      "3/3 [==============================] - 1s 396ms/step - loss: 0.0384 - categorical_accuracy: 1.0000\n",
      "Epoch 364/500\n",
      "3/3 [==============================] - 1s 316ms/step - loss: 0.0415 - categorical_accuracy: 0.9882\n",
      "Epoch 365/500\n",
      "3/3 [==============================] - 1s 325ms/step - loss: 0.0284 - categorical_accuracy: 1.0000\n",
      "Epoch 366/500\n",
      "3/3 [==============================] - 1s 374ms/step - loss: 0.0232 - categorical_accuracy: 1.0000\n",
      "Epoch 367/500\n",
      "3/3 [==============================] - 1s 311ms/step - loss: 0.0168 - categorical_accuracy: 1.0000\n",
      "Epoch 368/500\n",
      "3/3 [==============================] - 1s 405ms/step - loss: 0.0183 - categorical_accuracy: 1.0000\n",
      "Epoch 369/500\n",
      "3/3 [==============================] - 1s 360ms/step - loss: 0.0168 - categorical_accuracy: 1.0000\n",
      "Epoch 370/500\n",
      "3/3 [==============================] - 1s 317ms/step - loss: 0.0163 - categorical_accuracy: 1.0000\n",
      "Epoch 371/500\n",
      "3/3 [==============================] - 1s 386ms/step - loss: 0.0149 - categorical_accuracy: 1.0000\n",
      "Epoch 372/500\n",
      "3/3 [==============================] - 1s 367ms/step - loss: 0.0123 - categorical_accuracy: 1.0000\n",
      "Epoch 373/500\n",
      "3/3 [==============================] - 1s 369ms/step - loss: 0.0084 - categorical_accuracy: 1.0000\n",
      "Epoch 374/500\n",
      "3/3 [==============================] - 1s 428ms/step - loss: 0.0118 - categorical_accuracy: 1.0000\n",
      "Epoch 375/500\n",
      "3/3 [==============================] - 1s 437ms/step - loss: 0.0120 - categorical_accuracy: 1.0000\n",
      "Epoch 376/500\n",
      "3/3 [==============================] - 2s 388ms/step - loss: 0.0072 - categorical_accuracy: 1.0000\n",
      "Epoch 377/500\n",
      "3/3 [==============================] - 1s 364ms/step - loss: 0.0309 - categorical_accuracy: 0.9765\n",
      "Epoch 378/500\n",
      "3/3 [==============================] - 1s 358ms/step - loss: 0.3091 - categorical_accuracy: 0.9059\n",
      "Epoch 379/500\n",
      "3/3 [==============================] - 1s 411ms/step - loss: 0.2232 - categorical_accuracy: 0.9529\n",
      "Epoch 380/500\n",
      "3/3 [==============================] - 1s 329ms/step - loss: 0.3163 - categorical_accuracy: 0.9059\n",
      "Epoch 381/500\n",
      "3/3 [==============================] - 1s 377ms/step - loss: 0.2456 - categorical_accuracy: 0.8824\n",
      "Epoch 382/500\n",
      "3/3 [==============================] - 1s 418ms/step - loss: 0.2227 - categorical_accuracy: 0.9176\n",
      "Epoch 383/500\n",
      "3/3 [==============================] - 1s 356ms/step - loss: 0.1966 - categorical_accuracy: 0.9412\n",
      "Epoch 384/500\n",
      "3/3 [==============================] - 1s 371ms/step - loss: 0.1271 - categorical_accuracy: 0.9647\n",
      "Epoch 385/500\n",
      "3/3 [==============================] - 1s 366ms/step - loss: 0.1336 - categorical_accuracy: 0.9765\n",
      "Epoch 386/500\n",
      "3/3 [==============================] - 1s 341ms/step - loss: 0.1330 - categorical_accuracy: 0.9647\n",
      "Epoch 387/500\n",
      "3/3 [==============================] - 1s 371ms/step - loss: 0.1167 - categorical_accuracy: 0.9647\n",
      "Epoch 388/500\n",
      "3/3 [==============================] - 1s 328ms/step - loss: 0.0985 - categorical_accuracy: 0.9765\n",
      "Epoch 389/500\n",
      "3/3 [==============================] - 1s 355ms/step - loss: 0.0882 - categorical_accuracy: 0.9647\n",
      "Epoch 390/500\n",
      "3/3 [==============================] - 1s 358ms/step - loss: 0.0697 - categorical_accuracy: 0.9765\n",
      "Epoch 391/500\n",
      "3/3 [==============================] - 1s 376ms/step - loss: 0.0673 - categorical_accuracy: 0.9765\n",
      "Epoch 392/500\n",
      "3/3 [==============================] - 1s 353ms/step - loss: 0.0489 - categorical_accuracy: 0.9882\n",
      "Epoch 393/500\n",
      "3/3 [==============================] - 1s 338ms/step - loss: 0.0543 - categorical_accuracy: 0.9765\n",
      "Epoch 394/500\n",
      "3/3 [==============================] - 1s 336ms/step - loss: 0.0439 - categorical_accuracy: 1.0000\n",
      "Epoch 395/500\n",
      "3/3 [==============================] - 1s 402ms/step - loss: 0.0533 - categorical_accuracy: 0.9882\n",
      "Epoch 396/500\n",
      "3/3 [==============================] - 1s 355ms/step - loss: 0.0519 - categorical_accuracy: 0.9882\n",
      "Epoch 397/500\n",
      "3/3 [==============================] - 1s 336ms/step - loss: 0.0373 - categorical_accuracy: 0.9882\n",
      "Epoch 398/500\n",
      "3/3 [==============================] - 1s 314ms/step - loss: 0.0271 - categorical_accuracy: 1.0000\n",
      "Epoch 399/500\n",
      "3/3 [==============================] - 1s 343ms/step - loss: 0.0215 - categorical_accuracy: 1.0000\n",
      "Epoch 400/500\n",
      "3/3 [==============================] - 1s 348ms/step - loss: 0.0224 - categorical_accuracy: 1.0000\n",
      "Epoch 401/500\n",
      "3/3 [==============================] - 1s 326ms/step - loss: 0.0191 - categorical_accuracy: 0.9882\n",
      "Epoch 402/500\n",
      "3/3 [==============================] - 1s 294ms/step - loss: 0.0165 - categorical_accuracy: 1.0000\n",
      "Epoch 403/500\n",
      "3/3 [==============================] - 1s 376ms/step - loss: 0.0106 - categorical_accuracy: 1.0000\n",
      "Epoch 404/500\n",
      "3/3 [==============================] - 1s 326ms/step - loss: 0.0185 - categorical_accuracy: 1.0000\n",
      "Epoch 405/500\n",
      "3/3 [==============================] - 1s 324ms/step - loss: 0.0098 - categorical_accuracy: 1.0000\n",
      "Epoch 406/500\n",
      "3/3 [==============================] - 1s 339ms/step - loss: 0.1104 - categorical_accuracy: 0.9529\n",
      "Epoch 407/500\n",
      "3/3 [==============================] - 1s 344ms/step - loss: 0.0797 - categorical_accuracy: 0.9647\n",
      "Epoch 408/500\n",
      "3/3 [==============================] - 1s 326ms/step - loss: 0.0812 - categorical_accuracy: 0.9647\n",
      "Epoch 409/500\n",
      "3/3 [==============================] - 1s 346ms/step - loss: 0.0942 - categorical_accuracy: 0.9529\n",
      "Epoch 410/500\n",
      "3/3 [==============================] - 1s 303ms/step - loss: 0.0610 - categorical_accuracy: 0.9765\n",
      "Epoch 411/500\n",
      "3/3 [==============================] - 1s 325ms/step - loss: 0.0593 - categorical_accuracy: 1.0000\n",
      "Epoch 412/500\n",
      "3/3 [==============================] - 1s 327ms/step - loss: 0.0634 - categorical_accuracy: 0.9765\n",
      "Epoch 413/500\n",
      "3/3 [==============================] - 1s 330ms/step - loss: 0.0272 - categorical_accuracy: 1.0000\n",
      "Epoch 414/500\n",
      "3/3 [==============================] - 1s 342ms/step - loss: 0.0255 - categorical_accuracy: 1.0000\n",
      "Epoch 415/500\n",
      "3/3 [==============================] - 1s 320ms/step - loss: 0.0352 - categorical_accuracy: 0.9765\n",
      "Epoch 416/500\n",
      "3/3 [==============================] - 1s 309ms/step - loss: 0.0567 - categorical_accuracy: 0.9882\n",
      "Epoch 417/500\n",
      "3/3 [==============================] - 1s 299ms/step - loss: 0.0555 - categorical_accuracy: 0.9765\n",
      "Epoch 418/500\n",
      "3/3 [==============================] - 1s 283ms/step - loss: 0.0457 - categorical_accuracy: 0.9882\n",
      "Epoch 419/500\n",
      "3/3 [==============================] - 1s 289ms/step - loss: 0.0709 - categorical_accuracy: 0.9765\n",
      "Epoch 420/500\n",
      "3/3 [==============================] - 1s 274ms/step - loss: 0.0510 - categorical_accuracy: 0.9765\n",
      "Epoch 421/500\n",
      "3/3 [==============================] - 1s 277ms/step - loss: 0.0415 - categorical_accuracy: 0.9882\n",
      "Epoch 422/500\n",
      "3/3 [==============================] - 1s 262ms/step - loss: 0.0163 - categorical_accuracy: 1.0000\n",
      "Epoch 423/500\n",
      "3/3 [==============================] - 1s 274ms/step - loss: 0.0357 - categorical_accuracy: 0.9882\n",
      "Epoch 424/500\n",
      "3/3 [==============================] - 1s 295ms/step - loss: 0.0251 - categorical_accuracy: 1.0000\n",
      "Epoch 425/500\n",
      "3/3 [==============================] - 1s 260ms/step - loss: 0.0098 - categorical_accuracy: 1.0000\n",
      "Epoch 426/500\n",
      "3/3 [==============================] - 1s 263ms/step - loss: 0.0355 - categorical_accuracy: 0.9765\n",
      "Epoch 427/500\n",
      "3/3 [==============================] - 1s 295ms/step - loss: 0.0501 - categorical_accuracy: 0.9882\n",
      "Epoch 428/500\n",
      "3/3 [==============================] - 1s 286ms/step - loss: 0.0152 - categorical_accuracy: 1.0000\n",
      "Epoch 429/500\n",
      "3/3 [==============================] - 1s 280ms/step - loss: 0.0293 - categorical_accuracy: 0.9882\n",
      "Epoch 430/500\n",
      "3/3 [==============================] - 1s 263ms/step - loss: 0.0996 - categorical_accuracy: 0.9647\n",
      "Epoch 431/500\n",
      "3/3 [==============================] - 1s 289ms/step - loss: 0.1626 - categorical_accuracy: 0.9294\n",
      "Epoch 432/500\n",
      "3/3 [==============================] - 1s 275ms/step - loss: 0.1359 - categorical_accuracy: 0.9647\n",
      "Epoch 433/500\n",
      "3/3 [==============================] - 1s 287ms/step - loss: 0.0181 - categorical_accuracy: 1.0000\n",
      "Epoch 434/500\n"
     ]
    },
    {
     "name": "stdout",
     "output_type": "stream",
     "text": [
      "3/3 [==============================] - 1s 287ms/step - loss: 0.0806 - categorical_accuracy: 0.9882\n",
      "Epoch 435/500\n",
      "3/3 [==============================] - 1s 260ms/step - loss: 0.0508 - categorical_accuracy: 0.9765\n",
      "Epoch 436/500\n",
      "3/3 [==============================] - 1s 253ms/step - loss: 0.0473 - categorical_accuracy: 0.9882\n",
      "Epoch 437/500\n",
      "3/3 [==============================] - 1s 264ms/step - loss: 0.0345 - categorical_accuracy: 0.9882\n",
      "Epoch 438/500\n",
      "3/3 [==============================] - 1s 300ms/step - loss: 0.0348 - categorical_accuracy: 1.0000\n",
      "Epoch 439/500\n",
      "3/3 [==============================] - 1s 297ms/step - loss: 0.0482 - categorical_accuracy: 0.9765\n",
      "Epoch 440/500\n",
      "3/3 [==============================] - 1s 272ms/step - loss: 0.0331 - categorical_accuracy: 0.9765\n",
      "Epoch 441/500\n",
      "3/3 [==============================] - 1s 287ms/step - loss: 0.0530 - categorical_accuracy: 0.9882\n",
      "Epoch 442/500\n",
      "3/3 [==============================] - 1s 322ms/step - loss: 0.0708 - categorical_accuracy: 0.9529\n",
      "Epoch 443/500\n",
      "3/3 [==============================] - 1s 307ms/step - loss: 0.0498 - categorical_accuracy: 0.9882\n",
      "Epoch 444/500\n",
      "3/3 [==============================] - 1s 311ms/step - loss: 0.0985 - categorical_accuracy: 0.9647\n",
      "Epoch 445/500\n",
      "3/3 [==============================] - 1s 332ms/step - loss: 0.0861 - categorical_accuracy: 0.9529\n",
      "Epoch 446/500\n",
      "3/3 [==============================] - 1s 301ms/step - loss: 0.1158 - categorical_accuracy: 0.9647\n",
      "Epoch 447/500\n",
      "3/3 [==============================] - 1s 299ms/step - loss: 0.0497 - categorical_accuracy: 0.9765\n",
      "Epoch 448/500\n",
      "3/3 [==============================] - 1s 328ms/step - loss: 0.0844 - categorical_accuracy: 0.9647\n",
      "Epoch 449/500\n",
      "3/3 [==============================] - 1s 368ms/step - loss: 0.0719 - categorical_accuracy: 0.9647\n",
      "Epoch 450/500\n",
      "3/3 [==============================] - 1s 328ms/step - loss: 0.0327 - categorical_accuracy: 0.9882\n",
      "Epoch 451/500\n",
      "3/3 [==============================] - 1s 318ms/step - loss: 0.0492 - categorical_accuracy: 0.9765\n",
      "Epoch 452/500\n",
      "3/3 [==============================] - 1s 336ms/step - loss: 0.0377 - categorical_accuracy: 1.0000\n",
      "Epoch 453/500\n",
      "3/3 [==============================] - 1s 351ms/step - loss: 0.0426 - categorical_accuracy: 0.9882\n",
      "Epoch 454/500\n",
      "3/3 [==============================] - 1s 412ms/step - loss: 0.0189 - categorical_accuracy: 1.0000\n",
      "Epoch 455/500\n",
      "3/3 [==============================] - 1s 420ms/step - loss: 0.0213 - categorical_accuracy: 0.9882\n",
      "Epoch 456/500\n",
      "3/3 [==============================] - 1s 343ms/step - loss: 0.0142 - categorical_accuracy: 1.0000\n",
      "Epoch 457/500\n",
      "3/3 [==============================] - 1s 352ms/step - loss: 0.0094 - categorical_accuracy: 1.0000\n",
      "Epoch 458/500\n",
      "3/3 [==============================] - 1s 350ms/step - loss: 0.0056 - categorical_accuracy: 1.0000\n",
      "Epoch 459/500\n",
      "3/3 [==============================] - 1s 347ms/step - loss: 0.0062 - categorical_accuracy: 1.0000\n",
      "Epoch 460/500\n",
      "3/3 [==============================] - 1s 372ms/step - loss: 0.0027 - categorical_accuracy: 1.0000\n",
      "Epoch 461/500\n",
      "3/3 [==============================] - 1s 350ms/step - loss: 0.0078 - categorical_accuracy: 1.0000\n",
      "Epoch 462/500\n",
      "3/3 [==============================] - 1s 394ms/step - loss: 0.0021 - categorical_accuracy: 1.0000\n",
      "Epoch 463/500\n",
      "3/3 [==============================] - 1s 349ms/step - loss: 0.0013 - categorical_accuracy: 1.0000\n",
      "Epoch 464/500\n",
      "3/3 [==============================] - 1s 374ms/step - loss: 0.0031 - categorical_accuracy: 1.0000\n",
      "Epoch 465/500\n",
      "3/3 [==============================] - 1s 355ms/step - loss: 0.0015 - categorical_accuracy: 1.0000\n",
      "Epoch 466/500\n",
      "3/3 [==============================] - 1s 365ms/step - loss: 0.0027 - categorical_accuracy: 1.0000\n",
      "Epoch 467/500\n",
      "3/3 [==============================] - 1s 392ms/step - loss: 0.0041 - categorical_accuracy: 1.0000\n",
      "Epoch 468/500\n",
      "3/3 [==============================] - 1s 363ms/step - loss: 8.6740e-04 - categorical_accuracy: 1.0000\n",
      "Epoch 469/500\n",
      "3/3 [==============================] - 1s 317ms/step - loss: 0.0011 - categorical_accuracy: 1.0000\n",
      "Epoch 470/500\n",
      "3/3 [==============================] - 1s 339ms/step - loss: 0.0021 - categorical_accuracy: 1.0000\n",
      "Epoch 471/500\n",
      "3/3 [==============================] - 1s 359ms/step - loss: 5.9554e-04 - categorical_accuracy: 1.0000\n",
      "Epoch 472/500\n",
      "3/3 [==============================] - 1s 379ms/step - loss: 6.6779e-04 - categorical_accuracy: 1.0000\n",
      "Epoch 473/500\n",
      "3/3 [==============================] - 1s 311ms/step - loss: 8.4126e-04 - categorical_accuracy: 1.0000\n",
      "Epoch 474/500\n",
      "3/3 [==============================] - 1s 350ms/step - loss: 8.3908e-04 - categorical_accuracy: 1.0000\n",
      "Epoch 475/500\n",
      "3/3 [==============================] - 1s 312ms/step - loss: 6.9388e-04 - categorical_accuracy: 1.0000\n",
      "Epoch 476/500\n",
      "3/3 [==============================] - 1s 362ms/step - loss: 4.8742e-04 - categorical_accuracy: 1.0000\n",
      "Epoch 477/500\n",
      "3/3 [==============================] - 1s 324ms/step - loss: 3.9220e-04 - categorical_accuracy: 1.0000\n",
      "Epoch 478/500\n",
      "3/3 [==============================] - 1s 376ms/step - loss: 3.6066e-04 - categorical_accuracy: 1.0000\n",
      "Epoch 479/500\n",
      "3/3 [==============================] - 1s 336ms/step - loss: 3.3700e-04 - categorical_accuracy: 1.0000\n",
      "Epoch 480/500\n",
      "3/3 [==============================] - 1s 357ms/step - loss: 3.2497e-04 - categorical_accuracy: 1.0000\n",
      "Epoch 481/500\n",
      "3/3 [==============================] - 1s 306ms/step - loss: 3.1436e-04 - categorical_accuracy: 1.0000\n",
      "Epoch 482/500\n",
      "3/3 [==============================] - 1s 343ms/step - loss: 3.0175e-04 - categorical_accuracy: 1.0000\n",
      "Epoch 483/500\n",
      "3/3 [==============================] - 1s 354ms/step - loss: 2.8369e-04 - categorical_accuracy: 1.0000\n",
      "Epoch 484/500\n",
      "3/3 [==============================] - 1s 375ms/step - loss: 2.7108e-04 - categorical_accuracy: 1.0000\n",
      "Epoch 485/500\n",
      "3/3 [==============================] - 1s 322ms/step - loss: 2.5648e-04 - categorical_accuracy: 1.0000\n",
      "Epoch 486/500\n",
      "3/3 [==============================] - 1s 347ms/step - loss: 2.4799e-04 - categorical_accuracy: 1.0000\n",
      "Epoch 487/500\n",
      "3/3 [==============================] - 1s 313ms/step - loss: 2.3751e-04 - categorical_accuracy: 1.0000\n",
      "Epoch 488/500\n",
      "3/3 [==============================] - 1s 317ms/step - loss: 2.3016e-04 - categorical_accuracy: 1.0000\n",
      "Epoch 489/500\n",
      "3/3 [==============================] - 1s 335ms/step - loss: 2.2442e-04 - categorical_accuracy: 1.0000\n",
      "Epoch 490/500\n",
      "3/3 [==============================] - 1s 362ms/step - loss: 2.1792e-04 - categorical_accuracy: 1.0000\n",
      "Epoch 491/500\n",
      "3/3 [==============================] - 1s 312ms/step - loss: 2.1246e-04 - categorical_accuracy: 1.0000\n",
      "Epoch 492/500\n",
      "3/3 [==============================] - 1s 344ms/step - loss: 2.0747e-04 - categorical_accuracy: 1.0000\n",
      "Epoch 493/500\n",
      "3/3 [==============================] - 1s 365ms/step - loss: 2.0250e-04 - categorical_accuracy: 1.0000\n",
      "Epoch 494/500\n",
      "3/3 [==============================] - 1s 329ms/step - loss: 1.9843e-04 - categorical_accuracy: 1.0000\n",
      "Epoch 495/500\n",
      "3/3 [==============================] - 1s 385ms/step - loss: 1.9424e-04 - categorical_accuracy: 1.0000\n",
      "Epoch 496/500\n",
      "3/3 [==============================] - 1s 394ms/step - loss: 1.8980e-04 - categorical_accuracy: 1.0000\n",
      "Epoch 497/500\n",
      "3/3 [==============================] - 1s 357ms/step - loss: 1.8632e-04 - categorical_accuracy: 1.0000\n",
      "Epoch 498/500\n",
      "3/3 [==============================] - 1s 319ms/step - loss: 1.8241e-04 - categorical_accuracy: 1.0000\n",
      "Epoch 499/500\n",
      "3/3 [==============================] - 1s 375ms/step - loss: 1.7887e-04 - categorical_accuracy: 1.0000\n",
      "Epoch 500/500\n",
      "3/3 [==============================] - 1s 361ms/step - loss: 1.7540e-04 - categorical_accuracy: 1.0000\n"
     ]
    },
    {
     "data": {
      "text/plain": [
       "<keras.callbacks.History at 0x17bccd13790>"
      ]
     },
     "execution_count": 65,
     "metadata": {},
     "output_type": "execute_result"
    }
   ],
   "source": [
    "model.fit(X_train,y_train,epochs=500,callbacks=[tb_callback])"
   ]
  },
  {
   "cell_type": "markdown",
   "id": "ea417b8e",
   "metadata": {},
   "source": [
    "### Predicting "
   ]
  },
  {
   "cell_type": "code",
   "execution_count": 47,
   "id": "3c37a0ca",
   "metadata": {},
   "outputs": [],
   "source": [
    "res = model.predict(X_test)"
   ]
  },
  {
   "cell_type": "code",
   "execution_count": 50,
   "id": "6d1d10aa",
   "metadata": {},
   "outputs": [
    {
     "data": {
      "text/plain": [
       "array([[9.9999905e-01, 4.4256490e-10, 9.4649101e-07],\n",
       "       [1.2273630e-03, 1.3810245e-04, 9.9863452e-01],\n",
       "       [1.1915271e-15, 1.0000000e+00, 9.3075752e-20],\n",
       "       [3.7874004e-01, 9.4193456e-05, 6.2116581e-01],\n",
       "       [9.9999213e-01, 9.2678727e-09, 7.8606190e-06]], dtype=float32)"
      ]
     },
     "execution_count": 50,
     "metadata": {},
     "output_type": "execute_result"
    }
   ],
   "source": [
    "res"
   ]
  },
  {
   "cell_type": "code",
   "execution_count": 51,
   "id": "31b1953f",
   "metadata": {},
   "outputs": [
    {
     "data": {
      "text/plain": [
       "1.0"
      ]
     },
     "execution_count": 51,
     "metadata": {},
     "output_type": "execute_result"
    }
   ],
   "source": [
    "np.sum(res[0])"
   ]
  },
  {
   "cell_type": "code",
   "execution_count": 55,
   "id": "7daa00e0",
   "metadata": {},
   "outputs": [
    {
     "data": {
      "text/plain": [
       "'thanks'"
      ]
     },
     "execution_count": 55,
     "metadata": {},
     "output_type": "execute_result"
    }
   ],
   "source": [
    "actions[np.argmax(res[2])]"
   ]
  },
  {
   "cell_type": "code",
   "execution_count": 54,
   "id": "4af4c9b6",
   "metadata": {},
   "outputs": [
    {
     "data": {
      "text/plain": [
       "'thanks'"
      ]
     },
     "execution_count": 54,
     "metadata": {},
     "output_type": "execute_result"
    }
   ],
   "source": [
    "actions[np.argmax(y_test[2])]"
   ]
  },
  {
   "cell_type": "markdown",
   "id": "dcb370fb",
   "metadata": {},
   "source": [
    "### Saving the weights"
   ]
  },
  {
   "cell_type": "code",
   "execution_count": 66,
   "id": "416c56f5",
   "metadata": {},
   "outputs": [],
   "source": [
    "model.save('action.h5')"
   ]
  },
  {
   "cell_type": "code",
   "execution_count": null,
   "id": "cc8950b1",
   "metadata": {},
   "outputs": [],
   "source": []
  },
  {
   "cell_type": "code",
   "execution_count": 68,
   "id": "36bfa857",
   "metadata": {},
   "outputs": [],
   "source": [
    "model.load_weights('action.h5')"
   ]
  },
  {
   "cell_type": "markdown",
   "id": "acd59849",
   "metadata": {},
   "source": [
    "### Evaluation"
   ]
  },
  {
   "cell_type": "code",
   "execution_count": 69,
   "id": "23bfde11",
   "metadata": {},
   "outputs": [],
   "source": [
    "from sklearn.metrics import multilabel_confusion_matrix, accuracy_score"
   ]
  },
  {
   "cell_type": "code",
   "execution_count": 70,
   "id": "941a7937",
   "metadata": {},
   "outputs": [],
   "source": [
    "yhat = model.predict(X_test)"
   ]
  },
  {
   "cell_type": "code",
   "execution_count": 71,
   "id": "aa731bb9",
   "metadata": {},
   "outputs": [],
   "source": [
    "ytrue = np.argmax(y_test, axis=1).tolist()\n",
    "yhat = np.argmax(yhat, axis=1).tolist()"
   ]
  },
  {
   "cell_type": "code",
   "execution_count": 72,
   "id": "08acfc7b",
   "metadata": {},
   "outputs": [
    {
     "data": {
      "text/plain": [
       "array([[[2, 0],\n",
       "        [1, 2]],\n",
       "\n",
       "       [[4, 0],\n",
       "        [0, 1]],\n",
       "\n",
       "       [[3, 1],\n",
       "        [0, 1]]], dtype=int64)"
      ]
     },
     "execution_count": 72,
     "metadata": {},
     "output_type": "execute_result"
    }
   ],
   "source": [
    "multilabel_confusion_matrix(ytrue, yhat)"
   ]
  },
  {
   "cell_type": "code",
   "execution_count": 73,
   "id": "018bba9f",
   "metadata": {},
   "outputs": [
    {
     "data": {
      "text/plain": [
       "0.8"
      ]
     },
     "execution_count": 73,
     "metadata": {},
     "output_type": "execute_result"
    }
   ],
   "source": [
    "\n",
    "accuracy_score(ytrue, yhat)"
   ]
  },
  {
   "cell_type": "code",
   "execution_count": 74,
   "id": "0cb3e2b0",
   "metadata": {},
   "outputs": [],
   "source": [
    "colors = [(245,117,16), (117,245,16), (16,117,245)]\n",
    "def prob_viz(res, actions, input_frame, colors):\n",
    "    output_frame = input_frame.copy()\n",
    "    for num, prob in enumerate(res):\n",
    "        cv2.rectangle(output_frame, (0,60+num*40), (int(prob*100), 90+num*40), colors[num], -1)\n",
    "        cv2.putText(output_frame, actions[num], (0, 85+num*40), cv2.FONT_HERSHEY_SIMPLEX, 1, (255,255,255), 2, cv2.LINE_AA)\n",
    "        \n",
    "    return output_frame"
   ]
  },
  {
   "cell_type": "code",
   "execution_count": 84,
   "id": "db89f80c",
   "metadata": {},
   "outputs": [
    {
     "name": "stdout",
     "output_type": "stream",
     "text": [
      "hello\n",
      "hello\n",
      "hello\n",
      "hello\n",
      "hello\n",
      "hello\n",
      "hello\n",
      "hello\n",
      "hello\n",
      "hello\n",
      "hello\n",
      "hello\n",
      "hello\n",
      "hello\n",
      "hello\n",
      "hello\n",
      "hello\n",
      "hello\n",
      "hello\n",
      "HowAreYou\n",
      "HowAreYou\n",
      "HowAreYou\n",
      "HowAreYou\n",
      "HowAreYou\n",
      "HowAreYou\n",
      "HowAreYou\n",
      "HowAreYou\n",
      "HowAreYou\n",
      "HowAreYou\n",
      "HowAreYou\n",
      "thanks\n",
      "thanks\n",
      "thanks\n",
      "thanks\n",
      "thanks\n",
      "thanks\n",
      "thanks\n",
      "thanks\n",
      "thanks\n",
      "thanks\n",
      "thanks\n",
      "thanks\n",
      "thanks\n",
      "thanks\n",
      "thanks\n",
      "thanks\n",
      "thanks\n",
      "thanks\n",
      "thanks\n",
      "thanks\n",
      "thanks\n",
      "thanks\n",
      "thanks\n",
      "thanks\n",
      "thanks\n",
      "thanks\n",
      "thanks\n",
      "thanks\n",
      "thanks\n",
      "thanks\n",
      "hello\n",
      "hello\n",
      "hello\n",
      "hello\n",
      "hello\n",
      "hello\n",
      "HowAreYou\n",
      "HowAreYou\n",
      "HowAreYou\n",
      "HowAreYou\n",
      "HowAreYou\n",
      "HowAreYou\n",
      "HowAreYou\n",
      "HowAreYou\n",
      "HowAreYou\n",
      "HowAreYou\n",
      "HowAreYou\n",
      "HowAreYou\n",
      "HowAreYou\n",
      "HowAreYou\n",
      "HowAreYou\n",
      "HowAreYou\n",
      "HowAreYou\n",
      "HowAreYou\n",
      "HowAreYou\n",
      "HowAreYou\n",
      "HowAreYou\n",
      "HowAreYou\n",
      "HowAreYou\n",
      "HowAreYou\n",
      "HowAreYou\n",
      "HowAreYou\n",
      "HowAreYou\n",
      "hello\n",
      "hello\n",
      "hello\n",
      "hello\n",
      "hello\n",
      "hello\n",
      "hello\n",
      "hello\n",
      "hello\n",
      "hello\n",
      "hello\n",
      "hello\n",
      "hello\n",
      "hello\n",
      "hello\n",
      "hello\n",
      "hello\n",
      "hello\n",
      "hello\n",
      "HowAreYou\n",
      "HowAreYou\n",
      "HowAreYou\n",
      "HowAreYou\n",
      "HowAreYou\n",
      "HowAreYou\n",
      "HowAreYou\n",
      "HowAreYou\n",
      "HowAreYou\n",
      "HowAreYou\n",
      "hello\n",
      "hello\n",
      "hello\n",
      "hello\n",
      "hello\n",
      "hello\n",
      "hello\n",
      "hello\n",
      "hello\n",
      "hello\n",
      "hello\n",
      "hello\n",
      "hello\n",
      "hello\n",
      "hello\n",
      "hello\n",
      "hello\n",
      "hello\n",
      "hello\n",
      "hello\n"
     ]
    }
   ],
   "source": [
    "# 1. New detection variables\n",
    "sequence = []\n",
    "sentence = []\n",
    "threshold = 0.8\n",
    "\n",
    "cap = cv2.VideoCapture(0)\n",
    "# Set mediapipe model \n",
    "with mp_holistic.Holistic(min_detection_confidence=0.75, min_tracking_confidence=0.75) as holistic:\n",
    "    while cap.isOpened():\n",
    "\n",
    "        # Read feed\n",
    "        ret, frame = cap.read()\n",
    "\n",
    "        # Make detections\n",
    "        image, results = mediapipe_detection(frame, holistic)\n",
    "        \n",
    "        \n",
    "        # Draw landmarks\n",
    "        draw_styled_landmarks(image, results)\n",
    "        \n",
    "        # prediction logic\n",
    "        keypoints = extract_keypoints(results)\n",
    "        sequence.insert(0,keypoints)\n",
    "        sequence = sequence[:30]\n",
    "         \n",
    "        if len(sequence)==30:\n",
    "            res = model.predict(np.expand_dims(sequence,axis=0))[0]\n",
    "            print(actions[np.argmax(res)])\n",
    "            \n",
    "            \n",
    "            #3. Viz logic\n",
    "            if res[np.argmax(res)] > threshold: \n",
    "                if len(sentence) > 0: \n",
    "                    if actions[np.argmax(res)] != sentence[-1]:\n",
    "                        sentence.append(actions[np.argmax(res)])\n",
    "                else:\n",
    "                    sentence.append(actions[np.argmax(res)])\n",
    "\n",
    "            if len(sentence) > 5: \n",
    "                sentence = sentence[-5:]\n",
    "            \n",
    "                        # Viz probabilities\n",
    "            image = prob_viz(res, actions, image, colors)\n",
    "            \n",
    "        cv2.rectangle(image, (0,0), (640, 40), (245, 117, 16), -1)\n",
    "        cv2.putText(image, ' '.join(sentence), (3,30), \n",
    "                       cv2.FONT_HERSHEY_SIMPLEX, 1, (255, 255, 255), 2, cv2.LINE_AA)\n",
    "\n",
    "        # Show to screenq\n",
    "        cv2.imshow('OpenCV Feed', image)\n",
    "\n",
    "        # Break gracefully\n",
    "        if cv2.waitKey(10) & 0xFF == ord('q'):\n",
    "            break\n",
    "    cap.release()\n",
    "    cv2.destroyAllWindows()"
   ]
  },
  {
   "cell_type": "code",
   "execution_count": 79,
   "id": "b345ee22",
   "metadata": {},
   "outputs": [],
   "source": [
    "cap.release()\n",
    "cv2.destroyAllWindows()"
   ]
  },
  {
   "cell_type": "code",
   "execution_count": 80,
   "id": "5270440b",
   "metadata": {},
   "outputs": [
    {
     "data": {
      "text/plain": [
       "True"
      ]
     },
     "execution_count": 80,
     "metadata": {},
     "output_type": "execute_result"
    }
   ],
   "source": [
    "res[np.argmax(res)] > threshold"
   ]
  },
  {
   "cell_type": "code",
   "execution_count": 82,
   "id": "ce78c492",
   "metadata": {},
   "outputs": [
    {
     "data": {
      "text/plain": [
       "array([[9.9976045e-01, 2.2159760e-08, 2.3956418e-04]], dtype=float32)"
      ]
     },
     "execution_count": 82,
     "metadata": {},
     "output_type": "execute_result"
    }
   ],
   "source": [
    "model.predict(np.expand_dims(X_test[0], axis=0))"
   ]
  },
  {
   "cell_type": "code",
   "execution_count": null,
   "id": "8c088f00",
   "metadata": {},
   "outputs": [],
   "source": []
  }
 ],
 "metadata": {
  "kernelspec": {
   "display_name": "Python 3 (ipykernel)",
   "language": "python",
   "name": "python3"
  },
  "language_info": {
   "codemirror_mode": {
    "name": "ipython",
    "version": 3
   },
   "file_extension": ".py",
   "mimetype": "text/x-python",
   "name": "python",
   "nbconvert_exporter": "python",
   "pygments_lexer": "ipython3",
   "version": "3.9.13"
  }
 },
 "nbformat": 4,
 "nbformat_minor": 5
}
